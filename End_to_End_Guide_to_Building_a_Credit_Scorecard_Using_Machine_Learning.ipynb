{
  "cells": [
    {
      "cell_type": "code",
      "execution_count": null,
      "metadata": {
        "scrolled": true,
        "id": "oUMOzVu8Y9O7"
      },
      "outputs": [],
      "source": [
        "import pkg_resources"
      ]
    },
    {
      "cell_type": "code",
      "execution_count": null,
      "metadata": {
        "id": "tWxEou2vY9PI"
      },
      "outputs": [],
      "source": [
        "import pandas as pd\n",
        "from sklearn.metrics import roc_auc_score,roc_curve,auc,precision_recall_curve\n",
        "from sklearn.model_selection import train_test_split\n",
        "from sklearn.linear_model import LogisticRegression \n",
        "from sklearn.ensemble import GradientBoostingClassifier\n",
        "\n",
        "import numpy as np\n",
        "import glob\n",
        "import math\n",
        "import seaborn as sns \n",
        "import matplotlib.pyplot as plt\n",
        "import pickle\n"
      ]
    },
    {
      "cell_type": "markdown",
      "metadata": {
        "id": "nUwzyca9Y9PK"
      },
      "source": [
        "# 1. Data Preprocessing"
      ]
    },
    {
      "cell_type": "code",
      "execution_count": null,
      "metadata": {
        "id": "Neh5G6iXY9PO"
      },
      "outputs": [],
      "source": [
        "def data_split(df, start, end, date_col):\n",
        "    \"\"\"\n",
        "    split the dataset into training or testing using date\n",
        "    :param data: (df) pandas dataframe, start, end\n",
        "    :return: (df) pandas dataframe\n",
        "    \"\"\"\n",
        "    data = df[(df[date_col] >= start) & (df[date_col] < end)]\n",
        "    #data = df[(df.order_date >= start) & (df.order_date < end)]\n",
        "    data = data.reset_index(drop=True)\n",
        "    #data = data.sort_values([\"date\", \"tic\"], ignore_index=True)\n",
        "    #data.index = data.date.factorize()[0]\n",
        "    return data\n",
        "\n",
        "\n",
        "def target_info(df_target_column):\n",
        "    '''\n",
        "    Print target column information -- count for each unique values in target column\n",
        "    Input: target column in dataframe\n",
        "    '''\n",
        "    proportion_true=str(round(sum(df_target_column == True) / len(df_target_column), 2) * 100)\n",
        "    \n",
        "    proportion_false=str(round(sum(df_target_column == False) / len(df_target_column), 3) * 100)\n",
        "    \n",
        "    print('There are total {} records in our data.'.format(len(df_target_column)))\n",
        "    print('Is Fraud:')\n",
        "    print('Count: {}'.format(sum(df_target_column == True)))\n",
        "    print('Proportion (Fraud): {}'.format(proportion_true\n",
        "                                  + '%'))\n",
        "    print('Not Fraud:')\n",
        "    print('Count: {}'.format(sum(df_target_column == False)))\n",
        "    print('Proportion (Not Fraud): {}'.format(proportion_false\n",
        "                                  + '%'))\n",
        "    plt.figure(figsize=(5, 5))\n",
        "    sns.barplot(x=df_target_column.value_counts().index, y=df_target_column.value_counts())\n",
        "    plt.title('Not Fraud vs Fraud Counts')\n",
        "    plt.ylabel('Count')\n",
        "    return proportion_true\n",
        "\n"
      ]
    },
    {
      "cell_type": "code",
      "execution_count": null,
      "metadata": {
        "id": "21n7w_DzY9PS"
      },
      "outputs": [],
      "source": [
        "# use pandas to load the csv file\n",
        "data = pd.read_csv('UCI_Credit_Card.csv')"
      ]
    },
    {
      "cell_type": "code",
      "execution_count": null,
      "metadata": {
        "colab": {
          "base_uri": "https://localhost:8080/"
        },
        "id": "AsFNHfA8Y9PU",
        "outputId": "9ba96bba-6419-49a0-e9fe-837d8cdece79"
      },
      "outputs": [
        {
          "output_type": "execute_result",
          "data": {
            "text/plain": [
              "(30000, 25)"
            ]
          },
          "metadata": {},
          "execution_count": 91
        }
      ],
      "source": [
        "# check the size of the data\n",
        "data.shape"
      ]
    },
    {
      "cell_type": "code",
      "execution_count": null,
      "metadata": {
        "colab": {
          "base_uri": "https://localhost:8080/",
          "height": 299
        },
        "id": "nn226iTfY9PW",
        "outputId": "b2f1e0d4-114e-44b5-f92d-d3bbd0102d11"
      },
      "outputs": [
        {
          "output_type": "execute_result",
          "data": {
            "text/plain": [
              "   ID  LIMIT_BAL  SEX  EDUCATION  MARRIAGE  AGE  PAY_0  PAY_2  PAY_3  PAY_4  \\\n",
              "0   1    20000.0    2          2         1   24      2      2     -1     -1   \n",
              "1   2   120000.0    2          2         2   26     -1      2      0      0   \n",
              "2   3    90000.0    2          2         2   34      0      0      0      0   \n",
              "3   4    50000.0    2          2         1   37      0      0      0      0   \n",
              "4   5    50000.0    1          2         1   57     -1      0     -1      0   \n",
              "\n",
              "   ...  BILL_AMT4  BILL_AMT5  BILL_AMT6  PAY_AMT1  PAY_AMT2  PAY_AMT3  \\\n",
              "0  ...        0.0        0.0        0.0       0.0     689.0       0.0   \n",
              "1  ...     3272.0     3455.0     3261.0       0.0    1000.0    1000.0   \n",
              "2  ...    14331.0    14948.0    15549.0    1518.0    1500.0    1000.0   \n",
              "3  ...    28314.0    28959.0    29547.0    2000.0    2019.0    1200.0   \n",
              "4  ...    20940.0    19146.0    19131.0    2000.0   36681.0   10000.0   \n",
              "\n",
              "   PAY_AMT4  PAY_AMT5  PAY_AMT6  default.payment.next.month  \n",
              "0       0.0       0.0       0.0                           1  \n",
              "1    1000.0       0.0    2000.0                           1  \n",
              "2    1000.0    1000.0    5000.0                           0  \n",
              "3    1100.0    1069.0    1000.0                           0  \n",
              "4    9000.0     689.0     679.0                           0  \n",
              "\n",
              "[5 rows x 25 columns]"
            ],
            "text/html": [
              "\n",
              "  <div id=\"df-8e39b60e-b48a-4194-aac7-f8dd08291623\">\n",
              "    <div class=\"colab-df-container\">\n",
              "      <div>\n",
              "<style scoped>\n",
              "    .dataframe tbody tr th:only-of-type {\n",
              "        vertical-align: middle;\n",
              "    }\n",
              "\n",
              "    .dataframe tbody tr th {\n",
              "        vertical-align: top;\n",
              "    }\n",
              "\n",
              "    .dataframe thead th {\n",
              "        text-align: right;\n",
              "    }\n",
              "</style>\n",
              "<table border=\"1\" class=\"dataframe\">\n",
              "  <thead>\n",
              "    <tr style=\"text-align: right;\">\n",
              "      <th></th>\n",
              "      <th>ID</th>\n",
              "      <th>LIMIT_BAL</th>\n",
              "      <th>SEX</th>\n",
              "      <th>EDUCATION</th>\n",
              "      <th>MARRIAGE</th>\n",
              "      <th>AGE</th>\n",
              "      <th>PAY_0</th>\n",
              "      <th>PAY_2</th>\n",
              "      <th>PAY_3</th>\n",
              "      <th>PAY_4</th>\n",
              "      <th>...</th>\n",
              "      <th>BILL_AMT4</th>\n",
              "      <th>BILL_AMT5</th>\n",
              "      <th>BILL_AMT6</th>\n",
              "      <th>PAY_AMT1</th>\n",
              "      <th>PAY_AMT2</th>\n",
              "      <th>PAY_AMT3</th>\n",
              "      <th>PAY_AMT4</th>\n",
              "      <th>PAY_AMT5</th>\n",
              "      <th>PAY_AMT6</th>\n",
              "      <th>default.payment.next.month</th>\n",
              "    </tr>\n",
              "  </thead>\n",
              "  <tbody>\n",
              "    <tr>\n",
              "      <th>0</th>\n",
              "      <td>1</td>\n",
              "      <td>20000.0</td>\n",
              "      <td>2</td>\n",
              "      <td>2</td>\n",
              "      <td>1</td>\n",
              "      <td>24</td>\n",
              "      <td>2</td>\n",
              "      <td>2</td>\n",
              "      <td>-1</td>\n",
              "      <td>-1</td>\n",
              "      <td>...</td>\n",
              "      <td>0.0</td>\n",
              "      <td>0.0</td>\n",
              "      <td>0.0</td>\n",
              "      <td>0.0</td>\n",
              "      <td>689.0</td>\n",
              "      <td>0.0</td>\n",
              "      <td>0.0</td>\n",
              "      <td>0.0</td>\n",
              "      <td>0.0</td>\n",
              "      <td>1</td>\n",
              "    </tr>\n",
              "    <tr>\n",
              "      <th>1</th>\n",
              "      <td>2</td>\n",
              "      <td>120000.0</td>\n",
              "      <td>2</td>\n",
              "      <td>2</td>\n",
              "      <td>2</td>\n",
              "      <td>26</td>\n",
              "      <td>-1</td>\n",
              "      <td>2</td>\n",
              "      <td>0</td>\n",
              "      <td>0</td>\n",
              "      <td>...</td>\n",
              "      <td>3272.0</td>\n",
              "      <td>3455.0</td>\n",
              "      <td>3261.0</td>\n",
              "      <td>0.0</td>\n",
              "      <td>1000.0</td>\n",
              "      <td>1000.0</td>\n",
              "      <td>1000.0</td>\n",
              "      <td>0.0</td>\n",
              "      <td>2000.0</td>\n",
              "      <td>1</td>\n",
              "    </tr>\n",
              "    <tr>\n",
              "      <th>2</th>\n",
              "      <td>3</td>\n",
              "      <td>90000.0</td>\n",
              "      <td>2</td>\n",
              "      <td>2</td>\n",
              "      <td>2</td>\n",
              "      <td>34</td>\n",
              "      <td>0</td>\n",
              "      <td>0</td>\n",
              "      <td>0</td>\n",
              "      <td>0</td>\n",
              "      <td>...</td>\n",
              "      <td>14331.0</td>\n",
              "      <td>14948.0</td>\n",
              "      <td>15549.0</td>\n",
              "      <td>1518.0</td>\n",
              "      <td>1500.0</td>\n",
              "      <td>1000.0</td>\n",
              "      <td>1000.0</td>\n",
              "      <td>1000.0</td>\n",
              "      <td>5000.0</td>\n",
              "      <td>0</td>\n",
              "    </tr>\n",
              "    <tr>\n",
              "      <th>3</th>\n",
              "      <td>4</td>\n",
              "      <td>50000.0</td>\n",
              "      <td>2</td>\n",
              "      <td>2</td>\n",
              "      <td>1</td>\n",
              "      <td>37</td>\n",
              "      <td>0</td>\n",
              "      <td>0</td>\n",
              "      <td>0</td>\n",
              "      <td>0</td>\n",
              "      <td>...</td>\n",
              "      <td>28314.0</td>\n",
              "      <td>28959.0</td>\n",
              "      <td>29547.0</td>\n",
              "      <td>2000.0</td>\n",
              "      <td>2019.0</td>\n",
              "      <td>1200.0</td>\n",
              "      <td>1100.0</td>\n",
              "      <td>1069.0</td>\n",
              "      <td>1000.0</td>\n",
              "      <td>0</td>\n",
              "    </tr>\n",
              "    <tr>\n",
              "      <th>4</th>\n",
              "      <td>5</td>\n",
              "      <td>50000.0</td>\n",
              "      <td>1</td>\n",
              "      <td>2</td>\n",
              "      <td>1</td>\n",
              "      <td>57</td>\n",
              "      <td>-1</td>\n",
              "      <td>0</td>\n",
              "      <td>-1</td>\n",
              "      <td>0</td>\n",
              "      <td>...</td>\n",
              "      <td>20940.0</td>\n",
              "      <td>19146.0</td>\n",
              "      <td>19131.0</td>\n",
              "      <td>2000.0</td>\n",
              "      <td>36681.0</td>\n",
              "      <td>10000.0</td>\n",
              "      <td>9000.0</td>\n",
              "      <td>689.0</td>\n",
              "      <td>679.0</td>\n",
              "      <td>0</td>\n",
              "    </tr>\n",
              "  </tbody>\n",
              "</table>\n",
              "<p>5 rows × 25 columns</p>\n",
              "</div>\n",
              "      <button class=\"colab-df-convert\" onclick=\"convertToInteractive('df-8e39b60e-b48a-4194-aac7-f8dd08291623')\"\n",
              "              title=\"Convert this dataframe to an interactive table.\"\n",
              "              style=\"display:none;\">\n",
              "        \n",
              "  <svg xmlns=\"http://www.w3.org/2000/svg\" height=\"24px\"viewBox=\"0 0 24 24\"\n",
              "       width=\"24px\">\n",
              "    <path d=\"M0 0h24v24H0V0z\" fill=\"none\"/>\n",
              "    <path d=\"M18.56 5.44l.94 2.06.94-2.06 2.06-.94-2.06-.94-.94-2.06-.94 2.06-2.06.94zm-11 1L8.5 8.5l.94-2.06 2.06-.94-2.06-.94L8.5 2.5l-.94 2.06-2.06.94zm10 10l.94 2.06.94-2.06 2.06-.94-2.06-.94-.94-2.06-.94 2.06-2.06.94z\"/><path d=\"M17.41 7.96l-1.37-1.37c-.4-.4-.92-.59-1.43-.59-.52 0-1.04.2-1.43.59L10.3 9.45l-7.72 7.72c-.78.78-.78 2.05 0 2.83L4 21.41c.39.39.9.59 1.41.59.51 0 1.02-.2 1.41-.59l7.78-7.78 2.81-2.81c.8-.78.8-2.07 0-2.86zM5.41 20L4 18.59l7.72-7.72 1.47 1.35L5.41 20z\"/>\n",
              "  </svg>\n",
              "      </button>\n",
              "      \n",
              "  <style>\n",
              "    .colab-df-container {\n",
              "      display:flex;\n",
              "      flex-wrap:wrap;\n",
              "      gap: 12px;\n",
              "    }\n",
              "\n",
              "    .colab-df-convert {\n",
              "      background-color: #E8F0FE;\n",
              "      border: none;\n",
              "      border-radius: 50%;\n",
              "      cursor: pointer;\n",
              "      display: none;\n",
              "      fill: #1967D2;\n",
              "      height: 32px;\n",
              "      padding: 0 0 0 0;\n",
              "      width: 32px;\n",
              "    }\n",
              "\n",
              "    .colab-df-convert:hover {\n",
              "      background-color: #E2EBFA;\n",
              "      box-shadow: 0px 1px 2px rgba(60, 64, 67, 0.3), 0px 1px 3px 1px rgba(60, 64, 67, 0.15);\n",
              "      fill: #174EA6;\n",
              "    }\n",
              "\n",
              "    [theme=dark] .colab-df-convert {\n",
              "      background-color: #3B4455;\n",
              "      fill: #D2E3FC;\n",
              "    }\n",
              "\n",
              "    [theme=dark] .colab-df-convert:hover {\n",
              "      background-color: #434B5C;\n",
              "      box-shadow: 0px 1px 3px 1px rgba(0, 0, 0, 0.15);\n",
              "      filter: drop-shadow(0px 1px 2px rgba(0, 0, 0, 0.3));\n",
              "      fill: #FFFFFF;\n",
              "    }\n",
              "  </style>\n",
              "\n",
              "      <script>\n",
              "        const buttonEl =\n",
              "          document.querySelector('#df-8e39b60e-b48a-4194-aac7-f8dd08291623 button.colab-df-convert');\n",
              "        buttonEl.style.display =\n",
              "          google.colab.kernel.accessAllowed ? 'block' : 'none';\n",
              "\n",
              "        async function convertToInteractive(key) {\n",
              "          const element = document.querySelector('#df-8e39b60e-b48a-4194-aac7-f8dd08291623');\n",
              "          const dataTable =\n",
              "            await google.colab.kernel.invokeFunction('convertToInteractive',\n",
              "                                                     [key], {});\n",
              "          if (!dataTable) return;\n",
              "\n",
              "          const docLinkHtml = 'Like what you see? Visit the ' +\n",
              "            '<a target=\"_blank\" href=https://colab.research.google.com/notebooks/data_table.ipynb>data table notebook</a>'\n",
              "            + ' to learn more about interactive tables.';\n",
              "          element.innerHTML = '';\n",
              "          dataTable['output_type'] = 'display_data';\n",
              "          await google.colab.output.renderOutput(dataTable, element);\n",
              "          const docLink = document.createElement('div');\n",
              "          docLink.innerHTML = docLinkHtml;\n",
              "          element.appendChild(docLink);\n",
              "        }\n",
              "      </script>\n",
              "    </div>\n",
              "  </div>\n",
              "  "
            ]
          },
          "metadata": {},
          "execution_count": 92
        }
      ],
      "source": [
        "# check few lines\n",
        "data.head()"
      ]
    },
    {
      "cell_type": "code",
      "execution_count": null,
      "metadata": {
        "id": "MQqtyulkY9PY"
      },
      "outputs": [],
      "source": [
        "#use the world 'label'\n",
        "data['label']=data['default.payment.next.month']\n",
        "data=data.drop(columns=['default.payment.next.month'])"
      ]
    },
    {
      "cell_type": "code",
      "execution_count": null,
      "metadata": {
        "colab": {
          "base_uri": "https://localhost:8080/",
          "height": 612
        },
        "id": "0D1nBckZY9PZ",
        "outputId": "a737b17d-7070-48b5-8f02-de990e5ecd80"
      },
      "outputs": [
        {
          "output_type": "stream",
          "name": "stdout",
          "text": [
            "There are total 30000 records in our data.\n",
            "Is Fraud:\n",
            "Count: 6636\n",
            "Proportion (Fraud): 22.0%\n",
            "Not Fraud:\n",
            "Count: 23364\n",
            "Proportion (Not Fraud): 77.9%\n"
          ]
        },
        {
          "output_type": "execute_result",
          "data": {
            "text/plain": [
              "'22.0'"
            ],
            "application/vnd.google.colaboratory.intrinsic+json": {
              "type": "string"
            }
          },
          "metadata": {},
          "execution_count": 94
        },
        {
          "output_type": "display_data",
          "data": {
            "text/plain": [
              "<Figure size 500x500 with 1 Axes>"
            ],
            "image/png": "[encoded data removed]"
          },
          "metadata": {}
        }
      ],
      "source": [
        "#check the fraud proportion of the data\n",
        "target_info(data['label'])"
      ]
    },
    {
      "cell_type": "code",
      "execution_count": null,
      "metadata": {
        "id": "wXefht1sY9Pb"
      },
      "outputs": [],
      "source": [
        "# set an exclude list for the scorecard package Toad\n",
        "exclude_list = ['ID','label']"
      ]
    },
    {
      "cell_type": "code",
      "execution_count": null,
      "metadata": {
        "colab": {
          "base_uri": "https://localhost:8080/"
        },
        "id": "ASnLojDxY9Pc",
        "outputId": "a35154e6-c939-4714-ab57-aa5ba63414ec"
      },
      "outputs": [
        {
          "output_type": "execute_result",
          "data": {
            "text/plain": [
              "count    30000.000000\n",
              "mean     15000.500000\n",
              "std       8660.398374\n",
              "min          1.000000\n",
              "25%       7500.750000\n",
              "50%      15000.500000\n",
              "75%      22500.250000\n",
              "max      30000.000000\n",
              "Name: ID, dtype: float64"
            ]
          },
          "metadata": {},
          "execution_count": 96
        }
      ],
      "source": [
        "data.ID.describe()"
      ]
    },
    {
      "cell_type": "code",
      "execution_count": null,
      "metadata": {
        "id": "7CNRThykY9Pd"
      },
      "outputs": [],
      "source": [
        "# use the ID column to split the train-test data\n",
        "train = data_split(data,start = 0, end=22500,date_col='ID')\n",
        "test = data_split(data,start = 22500, end=172792,date_col='ID')"
      ]
    },
    {
      "cell_type": "code",
      "execution_count": null,
      "metadata": {
        "colab": {
          "base_uri": "https://localhost:8080/"
        },
        "id": "5DNBJxbCY9Pe",
        "outputId": "b606a606-a0c1-48a6-88a4-726b301f097f"
      },
      "outputs": [
        {
          "output_type": "execute_result",
          "data": {
            "text/plain": [
              "0    17411\n",
              "1     5088\n",
              "Name: label, dtype: int64"
            ]
          },
          "metadata": {},
          "execution_count": 98
        }
      ],
      "source": [
        "train.label.value_counts()"
      ]
    },
    {
      "cell_type": "code",
      "execution_count": null,
      "metadata": {
        "colab": {
          "base_uri": "https://localhost:8080/"
        },
        "id": "gjB9gznqY9Pg",
        "outputId": "7ec40105-1d87-45b3-fd9e-3683e3786a7f"
      },
      "outputs": [
        {
          "output_type": "execute_result",
          "data": {
            "text/plain": [
              "0    5953\n",
              "1    1548\n",
              "Name: label, dtype: int64"
            ]
          },
          "metadata": {},
          "execution_count": 99
        }
      ],
      "source": [
        "test.label.value_counts()"
      ]
    },
    {
      "cell_type": "markdown",
      "metadata": {
        "id": "zymjB39fY9Pi"
      },
      "source": [
        "# 2. Feature Filtering"
      ]
    },
    {
      "cell_type": "code",
      "source": [
        "!pip install toad\n"
      ],
      "metadata": {
        "colab": {
          "base_uri": "https://localhost:8080/"
        },
        "id": "EOrWHoXXJxYh",
        "outputId": "06c9b6c7-c07c-458a-a5ff-562a81b01b76"
      },
      "execution_count": null,
      "outputs": [
        {
          "output_type": "stream",
          "name": "stdout",
          "text": [
            "Looking in indexes: https://pypi.org/simple, https://us-python.pkg.dev/colab-wheels/public/simple/\n",
            "Requirement already satisfied: toad in /usr/local/lib/python3.10/dist-packages (0.1.2)\n",
            "Requirement already satisfied: setuptools in /usr/local/lib/python3.10/dist-packages (from toad) (67.7.2)\n",
            "Requirement already satisfied: Cython>=0.29.15 in /usr/local/lib/python3.10/dist-packages (from toad) (0.29.34)\n",
            "Requirement already satisfied: numpy>=1.20 in /usr/local/lib/python3.10/dist-packages (from toad) (1.22.4)\n",
            "Requirement already satisfied: pandas in /usr/local/lib/python3.10/dist-packages (from toad) (1.5.3)\n",
            "Requirement already satisfied: scipy in /usr/local/lib/python3.10/dist-packages (from toad) (1.10.1)\n",
            "Requirement already satisfied: joblib>=0.12 in /usr/local/lib/python3.10/dist-packages (from toad) (1.2.0)\n",
            "Requirement already satisfied: scikit-learn>=0.21 in /usr/local/lib/python3.10/dist-packages (from toad) (1.2.2)\n",
            "Requirement already satisfied: seaborn>=0.10.0 in /usr/local/lib/python3.10/dist-packages (from toad) (0.12.2)\n",
            "Requirement already satisfied: threadpoolctl>=2.0.0 in /usr/local/lib/python3.10/dist-packages (from scikit-learn>=0.21->toad) (3.1.0)\n",
            "Requirement already satisfied: matplotlib!=3.6.1,>=3.1 in /usr/local/lib/python3.10/dist-packages (from seaborn>=0.10.0->toad) (3.7.1)\n",
            "Requirement already satisfied: python-dateutil>=2.8.1 in /usr/local/lib/python3.10/dist-packages (from pandas->toad) (2.8.2)\n",
            "Requirement already satisfied: pytz>=2020.1 in /usr/local/lib/python3.10/dist-packages (from pandas->toad) (2022.7.1)\n",
            "Requirement already satisfied: contourpy>=1.0.1 in /usr/local/lib/python3.10/dist-packages (from matplotlib!=3.6.1,>=3.1->seaborn>=0.10.0->toad) (1.0.7)\n",
            "Requirement already satisfied: cycler>=0.10 in /usr/local/lib/python3.10/dist-packages (from matplotlib!=3.6.1,>=3.1->seaborn>=0.10.0->toad) (0.11.0)\n",
            "Requirement already satisfied: fonttools>=4.22.0 in /usr/local/lib/python3.10/dist-packages (from matplotlib!=3.6.1,>=3.1->seaborn>=0.10.0->toad) (4.39.3)\n",
            "Requirement already satisfied: kiwisolver>=1.0.1 in /usr/local/lib/python3.10/dist-packages (from matplotlib!=3.6.1,>=3.1->seaborn>=0.10.0->toad) (1.4.4)\n",
            "Requirement already satisfied: packaging>=20.0 in /usr/local/lib/python3.10/dist-packages (from matplotlib!=3.6.1,>=3.1->seaborn>=0.10.0->toad) (23.1)\n",
            "Requirement already satisfied: pillow>=6.2.0 in /usr/local/lib/python3.10/dist-packages (from matplotlib!=3.6.1,>=3.1->seaborn>=0.10.0->toad) (8.4.0)\n",
            "Requirement already satisfied: pyparsing>=2.3.1 in /usr/local/lib/python3.10/dist-packages (from matplotlib!=3.6.1,>=3.1->seaborn>=0.10.0->toad) (3.0.9)\n",
            "Requirement already satisfied: six>=1.5 in /usr/local/lib/python3.10/dist-packages (from python-dateutil>=2.8.1->pandas->toad) (1.16.0)\n"
          ]
        }
      ]
    },
    {
      "cell_type": "code",
      "source": [
        "import toad"
      ],
      "metadata": {
        "id": "7kZpdNsYfSaj"
      },
      "execution_count": null,
      "outputs": []
    },
    {
      "cell_type": "code",
      "execution_count": null,
      "metadata": {
        "colab": {
          "base_uri": "https://localhost:8080/"
        },
        "id": "54I6Ah5sY9Pj",
        "outputId": "cd9a432f-c1a4-4ad7-d497-8bdbb9fe1929"
      },
      "outputs": [
        {
          "output_type": "stream",
          "name": "stdout",
          "text": [
            "keep: 23 drop empty: 0 drop iv: 2 drop corr: 0\n"
          ]
        }
      ],
      "source": [
        " ###feature filtering by missing value, IV & corrrelation：\n",
        "##If the missing value rate is greater than the threshold, delete the feature\n",
        "##If the correlation coefficient is greater than the threshold, delete the feature\n",
        "##If the IV is smaller than the threshold, delete the features\n",
        "\n",
        "train_selected, drop_lst= toad.selection.select(frame = train,\n",
        "                                                target=train['label'], \n",
        "                                                empty = 0.7, \n",
        "                                                iv = 0.02, corr = 1, \n",
        "                                                return_drop=True, \n",
        "                                                exclude=exclude_list)\n",
        "print(\"keep:\",train_selected.shape[1],\n",
        "      \"drop empty:\",len(drop_lst['empty']),\n",
        "      \"drop iv:\",len(drop_lst['iv']),\n",
        "      \"drop corr:\",len(drop_lst['corr']))\n"
      ]
    },
    {
      "cell_type": "code",
      "execution_count": null,
      "metadata": {
        "colab": {
          "base_uri": "https://localhost:8080/"
        },
        "id": "3wmcreYdY9QD",
        "outputId": "f362e7aa-1695-4b06-e021-2b5486eb80e4"
      },
      "outputs": [
        {
          "output_type": "execute_result",
          "data": {
            "text/plain": [
              "{'empty': array([], dtype=float64),\n",
              " 'iv': array(['SEX', 'MARRIAGE'], dtype=object),\n",
              " 'corr': array([], dtype=object)}"
            ]
          },
          "metadata": {},
          "execution_count": 103
        }
      ],
      "source": [
        "drop_lst"
      ]
    },
    {
      "cell_type": "code",
      "execution_count": null,
      "metadata": {
        "id": "hMrWcER4Y9QF"
      },
      "outputs": [],
      "source": [
        "# output the iv table to a dataframe\n",
        "def output_iv_importance(train_selected,label_col):\n",
        "    feat_import_iv = toad.quality(train_selected,label_col,iv_only=True)\n",
        "    feat_import_iv=feat_import_iv['iv']\n",
        "    feat_import_iv = feat_import_iv.reset_index()\n",
        "    feat_import_iv.columns = ['name','iv']\n",
        "    return feat_import_iv\n",
        "df_iv=output_iv_importance(train_selected,'label')"
      ]
    },
    {
      "cell_type": "code",
      "execution_count": null,
      "metadata": {
        "colab": {
          "base_uri": "https://localhost:8080/"
        },
        "id": "IeEjDqppY9QG",
        "outputId": "85302c46-b338-4057-8c07-7f2d419adda2"
      },
      "outputs": [
        {
          "output_type": "execute_result",
          "data": {
            "text/plain": [
              "(22, 2)"
            ]
          },
          "metadata": {},
          "execution_count": 105
        }
      ],
      "source": [
        "df_iv.shape"
      ]
    },
    {
      "cell_type": "code",
      "execution_count": null,
      "metadata": {
        "colab": {
          "base_uri": "https://localhost:8080/",
          "height": 739
        },
        "id": "0vSb6cfzY9QH",
        "outputId": "b2042364-c280-4896-ee0a-5d75d558a265"
      },
      "outputs": [
        {
          "output_type": "execute_result",
          "data": {
            "text/plain": [
              "         name        iv\n",
              "0       PAY_0  0.864707\n",
              "1       PAY_2  0.536068\n",
              "2       PAY_3  0.401513\n",
              "3       PAY_4  0.349813\n",
              "4       PAY_5  0.340014\n",
              "5       PAY_6  0.282692\n",
              "6    PAY_AMT1  0.189334\n",
              "7   LIMIT_BAL  0.170973\n",
              "8    PAY_AMT2  0.168256\n",
              "9    PAY_AMT3  0.128827\n",
              "10   PAY_AMT4  0.121719\n",
              "11   PAY_AMT6  0.106017\n",
              "12   PAY_AMT5  0.103353\n",
              "13  BILL_AMT4  0.047998\n",
              "14  BILL_AMT5  0.046490\n",
              "15  BILL_AMT3  0.044047\n",
              "16  EDUCATION  0.036458\n",
              "17         ID  0.032184\n",
              "18        AGE  0.027512\n",
              "19  BILL_AMT6  0.027461\n",
              "20  BILL_AMT1  0.026191\n",
              "21  BILL_AMT2  0.022539"
            ],
            "text/html": [
              "\n",
              "  <div id=\"df-3279b0e1-cdae-4883-95d5-7b45722ae122\">\n",
              "    <div class=\"colab-df-container\">\n",
              "      <div>\n",
              "<style scoped>\n",
              "    .dataframe tbody tr th:only-of-type {\n",
              "        vertical-align: middle;\n",
              "    }\n",
              "\n",
              "    .dataframe tbody tr th {\n",
              "        vertical-align: top;\n",
              "    }\n",
              "\n",
              "    .dataframe thead th {\n",
              "        text-align: right;\n",
              "    }\n",
              "</style>\n",
              "<table border=\"1\" class=\"dataframe\">\n",
              "  <thead>\n",
              "    <tr style=\"text-align: right;\">\n",
              "      <th></th>\n",
              "      <th>name</th>\n",
              "      <th>iv</th>\n",
              "    </tr>\n",
              "  </thead>\n",
              "  <tbody>\n",
              "    <tr>\n",
              "      <th>0</th>\n",
              "      <td>PAY_0</td>\n",
              "      <td>0.864707</td>\n",
              "    </tr>\n",
              "    <tr>\n",
              "      <th>1</th>\n",
              "      <td>PAY_2</td>\n",
              "      <td>0.536068</td>\n",
              "    </tr>\n",
              "    <tr>\n",
              "      <th>2</th>\n",
              "      <td>PAY_3</td>\n",
              "      <td>0.401513</td>\n",
              "    </tr>\n",
              "    <tr>\n",
              "      <th>3</th>\n",
              "      <td>PAY_4</td>\n",
              "      <td>0.349813</td>\n",
              "    </tr>\n",
              "    <tr>\n",
              "      <th>4</th>\n",
              "      <td>PAY_5</td>\n",
              "      <td>0.340014</td>\n",
              "    </tr>\n",
              "    <tr>\n",
              "      <th>5</th>\n",
              "      <td>PAY_6</td>\n",
              "      <td>0.282692</td>\n",
              "    </tr>\n",
              "    <tr>\n",
              "      <th>6</th>\n",
              "      <td>PAY_AMT1</td>\n",
              "      <td>0.189334</td>\n",
              "    </tr>\n",
              "    <tr>\n",
              "      <th>7</th>\n",
              "      <td>LIMIT_BAL</td>\n",
              "      <td>0.170973</td>\n",
              "    </tr>\n",
              "    <tr>\n",
              "      <th>8</th>\n",
              "      <td>PAY_AMT2</td>\n",
              "      <td>0.168256</td>\n",
              "    </tr>\n",
              "    <tr>\n",
              "      <th>9</th>\n",
              "      <td>PAY_AMT3</td>\n",
              "      <td>0.128827</td>\n",
              "    </tr>\n",
              "    <tr>\n",
              "      <th>10</th>\n",
              "      <td>PAY_AMT4</td>\n",
              "      <td>0.121719</td>\n",
              "    </tr>\n",
              "    <tr>\n",
              "      <th>11</th>\n",
              "      <td>PAY_AMT6</td>\n",
              "      <td>0.106017</td>\n",
              "    </tr>\n",
              "    <tr>\n",
              "      <th>12</th>\n",
              "      <td>PAY_AMT5</td>\n",
              "      <td>0.103353</td>\n",
              "    </tr>\n",
              "    <tr>\n",
              "      <th>13</th>\n",
              "      <td>BILL_AMT4</td>\n",
              "      <td>0.047998</td>\n",
              "    </tr>\n",
              "    <tr>\n",
              "      <th>14</th>\n",
              "      <td>BILL_AMT5</td>\n",
              "      <td>0.046490</td>\n",
              "    </tr>\n",
              "    <tr>\n",
              "      <th>15</th>\n",
              "      <td>BILL_AMT3</td>\n",
              "      <td>0.044047</td>\n",
              "    </tr>\n",
              "    <tr>\n",
              "      <th>16</th>\n",
              "      <td>EDUCATION</td>\n",
              "      <td>0.036458</td>\n",
              "    </tr>\n",
              "    <tr>\n",
              "      <th>17</th>\n",
              "      <td>ID</td>\n",
              "      <td>0.032184</td>\n",
              "    </tr>\n",
              "    <tr>\n",
              "      <th>18</th>\n",
              "      <td>AGE</td>\n",
              "      <td>0.027512</td>\n",
              "    </tr>\n",
              "    <tr>\n",
              "      <th>19</th>\n",
              "      <td>BILL_AMT6</td>\n",
              "      <td>0.027461</td>\n",
              "    </tr>\n",
              "    <tr>\n",
              "      <th>20</th>\n",
              "      <td>BILL_AMT1</td>\n",
              "      <td>0.026191</td>\n",
              "    </tr>\n",
              "    <tr>\n",
              "      <th>21</th>\n",
              "      <td>BILL_AMT2</td>\n",
              "      <td>0.022539</td>\n",
              "    </tr>\n",
              "  </tbody>\n",
              "</table>\n",
              "</div>\n",
              "      <button class=\"colab-df-convert\" onclick=\"convertToInteractive('df-3279b0e1-cdae-4883-95d5-7b45722ae122')\"\n",
              "              title=\"Convert this dataframe to an interactive table.\"\n",
              "              style=\"display:none;\">\n",
              "        \n",
              "  <svg xmlns=\"http://www.w3.org/2000/svg\" height=\"24px\"viewBox=\"0 0 24 24\"\n",
              "       width=\"24px\">\n",
              "    <path d=\"M0 0h24v24H0V0z\" fill=\"none\"/>\n",
              "    <path d=\"M18.56 5.44l.94 2.06.94-2.06 2.06-.94-2.06-.94-.94-2.06-.94 2.06-2.06.94zm-11 1L8.5 8.5l.94-2.06 2.06-.94-2.06-.94L8.5 2.5l-.94 2.06-2.06.94zm10 10l.94 2.06.94-2.06 2.06-.94-2.06-.94-.94-2.06-.94 2.06-2.06.94z\"/><path d=\"M17.41 7.96l-1.37-1.37c-.4-.4-.92-.59-1.43-.59-.52 0-1.04.2-1.43.59L10.3 9.45l-7.72 7.72c-.78.78-.78 2.05 0 2.83L4 21.41c.39.39.9.59 1.41.59.51 0 1.02-.2 1.41-.59l7.78-7.78 2.81-2.81c.8-.78.8-2.07 0-2.86zM5.41 20L4 18.59l7.72-7.72 1.47 1.35L5.41 20z\"/>\n",
              "  </svg>\n",
              "      </button>\n",
              "      \n",
              "  <style>\n",
              "    .colab-df-container {\n",
              "      display:flex;\n",
              "      flex-wrap:wrap;\n",
              "      gap: 12px;\n",
              "    }\n",
              "\n",
              "    .colab-df-convert {\n",
              "      background-color: #E8F0FE;\n",
              "      border: none;\n",
              "      border-radius: 50%;\n",
              "      cursor: pointer;\n",
              "      display: none;\n",
              "      fill: #1967D2;\n",
              "      height: 32px;\n",
              "      padding: 0 0 0 0;\n",
              "      width: 32px;\n",
              "    }\n",
              "\n",
              "    .colab-df-convert:hover {\n",
              "      background-color: #E2EBFA;\n",
              "      box-shadow: 0px 1px 2px rgba(60, 64, 67, 0.3), 0px 1px 3px 1px rgba(60, 64, 67, 0.15);\n",
              "      fill: #174EA6;\n",
              "    }\n",
              "\n",
              "    [theme=dark] .colab-df-convert {\n",
              "      background-color: #3B4455;\n",
              "      fill: #D2E3FC;\n",
              "    }\n",
              "\n",
              "    [theme=dark] .colab-df-convert:hover {\n",
              "      background-color: #434B5C;\n",
              "      box-shadow: 0px 1px 3px 1px rgba(0, 0, 0, 0.15);\n",
              "      filter: drop-shadow(0px 1px 2px rgba(0, 0, 0, 0.3));\n",
              "      fill: #FFFFFF;\n",
              "    }\n",
              "  </style>\n",
              "\n",
              "      <script>\n",
              "        const buttonEl =\n",
              "          document.querySelector('#df-3279b0e1-cdae-4883-95d5-7b45722ae122 button.colab-df-convert');\n",
              "        buttonEl.style.display =\n",
              "          google.colab.kernel.accessAllowed ? 'block' : 'none';\n",
              "\n",
              "        async function convertToInteractive(key) {\n",
              "          const element = document.querySelector('#df-3279b0e1-cdae-4883-95d5-7b45722ae122');\n",
              "          const dataTable =\n",
              "            await google.colab.kernel.invokeFunction('convertToInteractive',\n",
              "                                                     [key], {});\n",
              "          if (!dataTable) return;\n",
              "\n",
              "          const docLinkHtml = 'Like what you see? Visit the ' +\n",
              "            '<a target=\"_blank\" href=https://colab.research.google.com/notebooks/data_table.ipynb>data table notebook</a>'\n",
              "            + ' to learn more about interactive tables.';\n",
              "          element.innerHTML = '';\n",
              "          dataTable['output_type'] = 'display_data';\n",
              "          await google.colab.output.renderOutput(dataTable, element);\n",
              "          const docLink = document.createElement('div');\n",
              "          docLink.innerHTML = docLinkHtml;\n",
              "          element.appendChild(docLink);\n",
              "        }\n",
              "      </script>\n",
              "    </div>\n",
              "  </div>\n",
              "  "
            ]
          },
          "metadata": {},
          "execution_count": 106
        }
      ],
      "source": [
        "df_iv.head(30)"
      ]
    },
    {
      "cell_type": "markdown",
      "metadata": {
        "id": "exrb_6pQY9QJ"
      },
      "source": [
        "# 3. Feature Binning\n",
        "Feature binning is to transform a continuous or numerical variable into a categorical feature.\n",
        "* It simplifies the logistic regression model and reduces the risk of model overfitting\n",
        "* Logistic regression is a generalized linear model, and its expressive ability is limited; Feature binning can introduce nonlinearity into the model, which can improve the expressive ability of the model and help better model fitting\n",
        "* The discretized features are very robust to abnormal data: for example, a feature is 1 if age > 30, and 0 otherwise. If the features are not discretized, an abnormal data point \"300 years old\" will impact the model fitting\n",
        "* It can treat null data as an individual class"
      ]
    },
    {
      "cell_type": "code",
      "execution_count": null,
      "metadata": {
        "colab": {
          "base_uri": "https://localhost:8080/"
        },
        "id": "Ltt_KfU0Y9QK",
        "outputId": "ece31d24-22ac-4f78-9a3b-b5ffe15b86d5"
      },
      "outputs": [
        {
          "output_type": "execute_result",
          "data": {
            "text/plain": [
              "0    17411\n",
              "1     5088\n",
              "Name: label, dtype: int64"
            ]
          },
          "metadata": {},
          "execution_count": 107
        }
      ],
      "source": [
        "train_selected.label.value_counts()"
      ]
    },
    {
      "cell_type": "code",
      "execution_count": null,
      "metadata": {
        "colab": {
          "base_uri": "https://localhost:8080/"
        },
        "id": "bEgVrgL_Y9QL",
        "outputId": "5c4b6ecd-dc65-4bf3-b6c3-2678f937b1b3"
      },
      "outputs": [
        {
          "output_type": "execute_result",
          "data": {
            "text/plain": [
              "(22499, 23)"
            ]
          },
          "metadata": {},
          "execution_count": 108
        }
      ],
      "source": [
        "train_selected.shape"
      ]
    },
    {
      "cell_type": "markdown",
      "metadata": {
        "id": "KqfSPdLoY9QM"
      },
      "source": [
        "### Steps for feature binning:\n",
        "#### Step 1. Initialization: c = toad.transform.Combiner() \n",
        "#### Step 2. Training binning: \n",
        "c.fit(dataframe, \n",
        "      y = 'target', \n",
        "      method = 'chi', \n",
        "      min_samples = 0.05, \n",
        "      n_bins = None, \n",
        "      empty_separate = False)\n",
        "* y: target column\n",
        "* method: binning method, supports chi (chi-square binning), dt (decision tree binning), kmean, quantile, step (equal step size binning)\n",
        "* min_samples: Each box contains the least number of samples, which can be a number or a proportion \n",
        "* n_bins: the number of bins; If it is not possible to divide so many boxes the maximum number of bins will be divided.\n",
        "* empty_separate: Whether to separate empty boxes separately \n",
        "\n",
        "#### Step 3. check binning nodes: c.export() \n",
        "#### Step 4. Manually adjust binning: c.load(dict) \n",
        "#### Step 5. Apply binning results: c.transform(dataframe, labels=False)\n",
        "* labels: Whether to convert the binning results into box labels. If False, output 0, 1, 2… (discrete variables are sorted according to the proportion), and if True output (-inf, 0], (0,10], (10, inf)."
      ]
    },
    {
      "cell_type": "code",
      "execution_count": null,
      "metadata": {
        "colab": {
          "base_uri": "https://localhost:8080/"
        },
        "id": "1rk8yJroY9QN",
        "outputId": "abf9a640-7241-4201-9863-aa3a26dd56d7"
      },
      "outputs": [
        {
          "output_type": "stream",
          "name": "stdout",
          "text": [
            "2.2213213165601093\n"
          ]
        }
      ],
      "source": [
        "import time\n",
        "start = time.time()\n",
        "combiner = toad.transform.Combiner()\n",
        "# use the filtered features for training\n",
        "# Use the stable chi-square binning, \n",
        "# specifying that each bin has at least 5% data to ensure stability\n",
        "# empty values will be automatically assigned to the best bin\n",
        "combiner.fit(X=train_selected,\n",
        "             y=train_selected['label'],\n",
        "             method='chi',\n",
        "             min_samples = 0.05,\n",
        "             exclude=exclude_list)\n",
        "end = time.time()\n",
        "print((end-start)/60)"
      ]
    },
    {
      "cell_type": "code",
      "execution_count": null,
      "metadata": {
        "colab": {
          "base_uri": "https://localhost:8080/"
        },
        "id": "KDIFGHZqY9QP",
        "outputId": "dfdc371f-7537-4c07-c0d0-1def9dee2e75"
      },
      "outputs": [
        {
          "output_type": "execute_result",
          "data": {
            "text/plain": [
              "<toad.transform.Combiner at 0x7fdee5bcc8e0>"
            ]
          },
          "metadata": {},
          "execution_count": 110
        }
      ],
      "source": [
        "combiner"
      ]
    },
    {
      "cell_type": "code",
      "execution_count": null,
      "metadata": {
        "id": "ovZRfN2GY9QR"
      },
      "outputs": [],
      "source": [
        "# save 1: pickle combiner\n",
        "filename = 'CreditScore_save1_combiner.pkl'\n",
        "pickle.dump(combiner, open(filename, 'wb'))"
      ]
    },
    {
      "cell_type": "code",
      "execution_count": null,
      "metadata": {
        "colab": {
          "base_uri": "https://localhost:8080/",
          "height": 35
        },
        "id": "ejKoQmNhY9QR",
        "outputId": "d60fa48c-93ee-4ceb-ee60-5cdd0a58032e"
      },
      "outputs": [
        {
          "output_type": "execute_result",
          "data": {
            "text/plain": [
              "'CreditScore_save1_combiner.pkl'"
            ],
            "application/vnd.google.colaboratory.intrinsic+json": {
              "type": "string"
            }
          },
          "metadata": {},
          "execution_count": 112
        }
      ],
      "source": [
        "filename"
      ]
    },
    {
      "cell_type": "code",
      "execution_count": null,
      "metadata": {
        "id": "Vrl-wyt1Y9QT"
      },
      "outputs": [],
      "source": [
        "# load the model from disk\n",
        "#combiner = pickle.load(open(filename, 'rb'))"
      ]
    },
    {
      "cell_type": "code",
      "execution_count": null,
      "metadata": {
        "id": "DdpLkO9rY9QU"
      },
      "outputs": [],
      "source": [
        "#output binning\n",
        "bins = combiner.export()"
      ]
    },
    {
      "cell_type": "code",
      "execution_count": null,
      "metadata": {
        "colab": {
          "base_uri": "https://localhost:8080/"
        },
        "id": "-lhY3EAOY9QV",
        "outputId": "9eb83f1a-5db1-4b6f-fcb3-77bc541158bb"
      },
      "outputs": [
        {
          "output_type": "execute_result",
          "data": {
            "text/plain": [
              "21"
            ]
          },
          "metadata": {},
          "execution_count": 115
        }
      ],
      "source": [
        "len(bins)"
      ]
    },
    {
      "cell_type": "code",
      "execution_count": null,
      "metadata": {
        "colab": {
          "base_uri": "https://localhost:8080/"
        },
        "id": "aJYC1qXPY9QW",
        "outputId": "2baf39ab-3f9f-4313-d5cf-c4a4d150ffd0"
      },
      "outputs": [
        {
          "output_type": "execute_result",
          "data": {
            "text/plain": [
              "{'LIMIT_BAL': [50000.0,\n",
              "  60000.0,\n",
              "  80000.0,\n",
              "  110000.0,\n",
              "  150000.0,\n",
              "  230000.0,\n",
              "  370000.0],\n",
              " 'EDUCATION': [2],\n",
              " 'AGE': [26, 29, 34, 46],\n",
              " 'PAY_0': [-1, 0, 1, 2],\n",
              " 'PAY_2': [-1, 2],\n",
              " 'PAY_3': [-1, 0, 2],\n",
              " 'PAY_4': [-1, 0, 1],\n",
              " 'PAY_5': [-1, 0, 2],\n",
              " 'PAY_6': [-1, 0, 2],\n",
              " 'BILL_AMT1': [2501.0],\n",
              " 'BILL_AMT2': [2400.0, 8287.0, 35213.0],\n",
              " 'BILL_AMT3': [2400.0, 7458.0, 81890.0],\n",
              " 'BILL_AMT4': [2501.0],\n",
              " 'BILL_AMT5': [2395.0, 8110.0, 35288.0],\n",
              " 'BILL_AMT6': [19195.0, 50442.0],\n",
              " 'PAY_AMT1': [6.0, 4902.0],\n",
              " 'PAY_AMT2': [92.0, 1603.0, 4520.0, 15002.0],\n",
              " 'PAY_AMT3': [1.0, 2921.0],\n",
              " 'PAY_AMT4': [1.0, 1506.0, 3946.0],\n",
              " 'PAY_AMT5': [1.0, 1880.0, 10000.0],\n",
              " 'PAY_AMT6': [28.0, 480.0, 926.0, 1078.0, 1501.0, 4060.0, 9567.0]}"
            ]
          },
          "metadata": {},
          "execution_count": 116
        }
      ],
      "source": [
        "bins"
      ]
    },
    {
      "cell_type": "code",
      "execution_count": null,
      "metadata": {
        "id": "kPCs-SrmY9QX"
      },
      "outputs": [],
      "source": [
        "#apply binning\n",
        "train_selected_bin = combiner.transform(train_selected)\n",
        "test_bin = combiner.transform(test[train_selected_bin.columns])"
      ]
    },
    {
      "cell_type": "code",
      "execution_count": null,
      "metadata": {
        "colab": {
          "base_uri": "https://localhost:8080/",
          "height": 299
        },
        "id": "84WF7ACnY9QY",
        "outputId": "d36ea757-f775-4114-bb37-4f507587ae4d"
      },
      "outputs": [
        {
          "output_type": "execute_result",
          "data": {
            "text/plain": [
              "   ID  LIMIT_BAL  EDUCATION  AGE  PAY_0  PAY_2  PAY_3  PAY_4  PAY_5  PAY_6  \\\n",
              "0   1          0          1    0      4      2      1      1      0      0   \n",
              "1   2          4          1    1      1      2      2      2      2      3   \n",
              "2   3          3          1    3      2      1      2      2      2      2   \n",
              "3   4          1          1    3      2      1      2      2      2      2   \n",
              "4   5          1          1    4      1      1      1      2      2      2   \n",
              "\n",
              "   ...  BILL_AMT4  BILL_AMT5  BILL_AMT6  PAY_AMT1  PAY_AMT2  PAY_AMT3  \\\n",
              "0  ...          0          0          0         0         1         0   \n",
              "1  ...          1          1          0         0         1         1   \n",
              "2  ...          1          2          0         1         1         1   \n",
              "3  ...          1          2          1         1         2         1   \n",
              "4  ...          1          2          0         1         4         2   \n",
              "\n",
              "   PAY_AMT4  PAY_AMT5  PAY_AMT6  label  \n",
              "0         0         0         0      1  \n",
              "1         1         0         5      1  \n",
              "2         1         1         6      0  \n",
              "3         1         1         3      0  \n",
              "4         3         1         2      0  \n",
              "\n",
              "[5 rows x 23 columns]"
            ],
            "text/html": [
              "\n",
              "  <div id=\"df-814e3404-7022-4013-9f6a-3adf7afc83bb\">\n",
              "    <div class=\"colab-df-container\">\n",
              "      <div>\n",
              "<style scoped>\n",
              "    .dataframe tbody tr th:only-of-type {\n",
              "        vertical-align: middle;\n",
              "    }\n",
              "\n",
              "    .dataframe tbody tr th {\n",
              "        vertical-align: top;\n",
              "    }\n",
              "\n",
              "    .dataframe thead th {\n",
              "        text-align: right;\n",
              "    }\n",
              "</style>\n",
              "<table border=\"1\" class=\"dataframe\">\n",
              "  <thead>\n",
              "    <tr style=\"text-align: right;\">\n",
              "      <th></th>\n",
              "      <th>ID</th>\n",
              "      <th>LIMIT_BAL</th>\n",
              "      <th>EDUCATION</th>\n",
              "      <th>AGE</th>\n",
              "      <th>PAY_0</th>\n",
              "      <th>PAY_2</th>\n",
              "      <th>PAY_3</th>\n",
              "      <th>PAY_4</th>\n",
              "      <th>PAY_5</th>\n",
              "      <th>PAY_6</th>\n",
              "      <th>...</th>\n",
              "      <th>BILL_AMT4</th>\n",
              "      <th>BILL_AMT5</th>\n",
              "      <th>BILL_AMT6</th>\n",
              "      <th>PAY_AMT1</th>\n",
              "      <th>PAY_AMT2</th>\n",
              "      <th>PAY_AMT3</th>\n",
              "      <th>PAY_AMT4</th>\n",
              "      <th>PAY_AMT5</th>\n",
              "      <th>PAY_AMT6</th>\n",
              "      <th>label</th>\n",
              "    </tr>\n",
              "  </thead>\n",
              "  <tbody>\n",
              "    <tr>\n",
              "      <th>0</th>\n",
              "      <td>1</td>\n",
              "      <td>0</td>\n",
              "      <td>1</td>\n",
              "      <td>0</td>\n",
              "      <td>4</td>\n",
              "      <td>2</td>\n",
              "      <td>1</td>\n",
              "      <td>1</td>\n",
              "      <td>0</td>\n",
              "      <td>0</td>\n",
              "      <td>...</td>\n",
              "      <td>0</td>\n",
              "      <td>0</td>\n",
              "      <td>0</td>\n",
              "      <td>0</td>\n",
              "      <td>1</td>\n",
              "      <td>0</td>\n",
              "      <td>0</td>\n",
              "      <td>0</td>\n",
              "      <td>0</td>\n",
              "      <td>1</td>\n",
              "    </tr>\n",
              "    <tr>\n",
              "      <th>1</th>\n",
              "      <td>2</td>\n",
              "      <td>4</td>\n",
              "      <td>1</td>\n",
              "      <td>1</td>\n",
              "      <td>1</td>\n",
              "      <td>2</td>\n",
              "      <td>2</td>\n",
              "      <td>2</td>\n",
              "      <td>2</td>\n",
              "      <td>3</td>\n",
              "      <td>...</td>\n",
              "      <td>1</td>\n",
              "      <td>1</td>\n",
              "      <td>0</td>\n",
              "      <td>0</td>\n",
              "      <td>1</td>\n",
              "      <td>1</td>\n",
              "      <td>1</td>\n",
              "      <td>0</td>\n",
              "      <td>5</td>\n",
              "      <td>1</td>\n",
              "    </tr>\n",
              "    <tr>\n",
              "      <th>2</th>\n",
              "      <td>3</td>\n",
              "      <td>3</td>\n",
              "      <td>1</td>\n",
              "      <td>3</td>\n",
              "      <td>2</td>\n",
              "      <td>1</td>\n",
              "      <td>2</td>\n",
              "      <td>2</td>\n",
              "      <td>2</td>\n",
              "      <td>2</td>\n",
              "      <td>...</td>\n",
              "      <td>1</td>\n",
              "      <td>2</td>\n",
              "      <td>0</td>\n",
              "      <td>1</td>\n",
              "      <td>1</td>\n",
              "      <td>1</td>\n",
              "      <td>1</td>\n",
              "      <td>1</td>\n",
              "      <td>6</td>\n",
              "      <td>0</td>\n",
              "    </tr>\n",
              "    <tr>\n",
              "      <th>3</th>\n",
              "      <td>4</td>\n",
              "      <td>1</td>\n",
              "      <td>1</td>\n",
              "      <td>3</td>\n",
              "      <td>2</td>\n",
              "      <td>1</td>\n",
              "      <td>2</td>\n",
              "      <td>2</td>\n",
              "      <td>2</td>\n",
              "      <td>2</td>\n",
              "      <td>...</td>\n",
              "      <td>1</td>\n",
              "      <td>2</td>\n",
              "      <td>1</td>\n",
              "      <td>1</td>\n",
              "      <td>2</td>\n",
              "      <td>1</td>\n",
              "      <td>1</td>\n",
              "      <td>1</td>\n",
              "      <td>3</td>\n",
              "      <td>0</td>\n",
              "    </tr>\n",
              "    <tr>\n",
              "      <th>4</th>\n",
              "      <td>5</td>\n",
              "      <td>1</td>\n",
              "      <td>1</td>\n",
              "      <td>4</td>\n",
              "      <td>1</td>\n",
              "      <td>1</td>\n",
              "      <td>1</td>\n",
              "      <td>2</td>\n",
              "      <td>2</td>\n",
              "      <td>2</td>\n",
              "      <td>...</td>\n",
              "      <td>1</td>\n",
              "      <td>2</td>\n",
              "      <td>0</td>\n",
              "      <td>1</td>\n",
              "      <td>4</td>\n",
              "      <td>2</td>\n",
              "      <td>3</td>\n",
              "      <td>1</td>\n",
              "      <td>2</td>\n",
              "      <td>0</td>\n",
              "    </tr>\n",
              "  </tbody>\n",
              "</table>\n",
              "<p>5 rows × 23 columns</p>\n",
              "</div>\n",
              "      <button class=\"colab-df-convert\" onclick=\"convertToInteractive('df-814e3404-7022-4013-9f6a-3adf7afc83bb')\"\n",
              "              title=\"Convert this dataframe to an interactive table.\"\n",
              "              style=\"display:none;\">\n",
              "        \n",
              "  <svg xmlns=\"http://www.w3.org/2000/svg\" height=\"24px\"viewBox=\"0 0 24 24\"\n",
              "       width=\"24px\">\n",
              "    <path d=\"M0 0h24v24H0V0z\" fill=\"none\"/>\n",
              "    <path d=\"M18.56 5.44l.94 2.06.94-2.06 2.06-.94-2.06-.94-.94-2.06-.94 2.06-2.06.94zm-11 1L8.5 8.5l.94-2.06 2.06-.94-2.06-.94L8.5 2.5l-.94 2.06-2.06.94zm10 10l.94 2.06.94-2.06 2.06-.94-2.06-.94-.94-2.06-.94 2.06-2.06.94z\"/><path d=\"M17.41 7.96l-1.37-1.37c-.4-.4-.92-.59-1.43-.59-.52 0-1.04.2-1.43.59L10.3 9.45l-7.72 7.72c-.78.78-.78 2.05 0 2.83L4 21.41c.39.39.9.59 1.41.59.51 0 1.02-.2 1.41-.59l7.78-7.78 2.81-2.81c.8-.78.8-2.07 0-2.86zM5.41 20L4 18.59l7.72-7.72 1.47 1.35L5.41 20z\"/>\n",
              "  </svg>\n",
              "      </button>\n",
              "      \n",
              "  <style>\n",
              "    .colab-df-container {\n",
              "      display:flex;\n",
              "      flex-wrap:wrap;\n",
              "      gap: 12px;\n",
              "    }\n",
              "\n",
              "    .colab-df-convert {\n",
              "      background-color: #E8F0FE;\n",
              "      border: none;\n",
              "      border-radius: 50%;\n",
              "      cursor: pointer;\n",
              "      display: none;\n",
              "      fill: #1967D2;\n",
              "      height: 32px;\n",
              "      padding: 0 0 0 0;\n",
              "      width: 32px;\n",
              "    }\n",
              "\n",
              "    .colab-df-convert:hover {\n",
              "      background-color: #E2EBFA;\n",
              "      box-shadow: 0px 1px 2px rgba(60, 64, 67, 0.3), 0px 1px 3px 1px rgba(60, 64, 67, 0.15);\n",
              "      fill: #174EA6;\n",
              "    }\n",
              "\n",
              "    [theme=dark] .colab-df-convert {\n",
              "      background-color: #3B4455;\n",
              "      fill: #D2E3FC;\n",
              "    }\n",
              "\n",
              "    [theme=dark] .colab-df-convert:hover {\n",
              "      background-color: #434B5C;\n",
              "      box-shadow: 0px 1px 3px 1px rgba(0, 0, 0, 0.15);\n",
              "      filter: drop-shadow(0px 1px 2px rgba(0, 0, 0, 0.3));\n",
              "      fill: #FFFFFF;\n",
              "    }\n",
              "  </style>\n",
              "\n",
              "      <script>\n",
              "        const buttonEl =\n",
              "          document.querySelector('#df-814e3404-7022-4013-9f6a-3adf7afc83bb button.colab-df-convert');\n",
              "        buttonEl.style.display =\n",
              "          google.colab.kernel.accessAllowed ? 'block' : 'none';\n",
              "\n",
              "        async function convertToInteractive(key) {\n",
              "          const element = document.querySelector('#df-814e3404-7022-4013-9f6a-3adf7afc83bb');\n",
              "          const dataTable =\n",
              "            await google.colab.kernel.invokeFunction('convertToInteractive',\n",
              "                                                     [key], {});\n",
              "          if (!dataTable) return;\n",
              "\n",
              "          const docLinkHtml = 'Like what you see? Visit the ' +\n",
              "            '<a target=\"_blank\" href=https://colab.research.google.com/notebooks/data_table.ipynb>data table notebook</a>'\n",
              "            + ' to learn more about interactive tables.';\n",
              "          element.innerHTML = '';\n",
              "          dataTable['output_type'] = 'display_data';\n",
              "          await google.colab.output.renderOutput(dataTable, element);\n",
              "          const docLink = document.createElement('div');\n",
              "          docLink.innerHTML = docLinkHtml;\n",
              "          element.appendChild(docLink);\n",
              "        }\n",
              "      </script>\n",
              "    </div>\n",
              "  </div>\n",
              "  "
            ]
          },
          "metadata": {},
          "execution_count": 118
        }
      ],
      "source": [
        "train_selected_bin.head()"
      ]
    },
    {
      "cell_type": "code",
      "execution_count": null,
      "metadata": {
        "colab": {
          "base_uri": "https://localhost:8080/",
          "height": 299
        },
        "id": "cMgmTDaaY9QZ",
        "outputId": "756da03e-e87d-4532-ca8d-214d12a1709b"
      },
      "outputs": [
        {
          "output_type": "execute_result",
          "data": {
            "text/plain": [
              "      ID  LIMIT_BAL  EDUCATION  AGE  PAY_0  PAY_2  PAY_3  PAY_4  PAY_5  PAY_6  \\\n",
              "0  22500          7          1    3      2      1      2      1      2      2   \n",
              "1  22501          5          1    2      1      1      1      1      1      1   \n",
              "2  22502          6          0    2      2      1      2      2      2      2   \n",
              "3  22503          1          1    3      2      1      3      3      3      2   \n",
              "4  22504          6          1    2      2      1      2      2      2      2   \n",
              "\n",
              "   ...  BILL_AMT4  BILL_AMT5  BILL_AMT6  PAY_AMT1  PAY_AMT2  PAY_AMT3  \\\n",
              "0  ...          1          3          2         2         2         2   \n",
              "1  ...          1          0          0         0         1         2   \n",
              "2  ...          1          3          1         1         2         1   \n",
              "3  ...          1          2          1         1         2         0   \n",
              "4  ...          1          3          2         2         3         2   \n",
              "\n",
              "   PAY_AMT4  PAY_AMT5  PAY_AMT6  label  \n",
              "0         3         2         6      0  \n",
              "1         2         2         5      0  \n",
              "2         2         2         5      0  \n",
              "3         0         1         2      1  \n",
              "4         3         2         6      1  \n",
              "\n",
              "[5 rows x 23 columns]"
            ],
            "text/html": [
              "\n",
              "  <div id=\"df-f55c8094-0b74-45a1-a719-9c00c7a5f536\">\n",
              "    <div class=\"colab-df-container\">\n",
              "      <div>\n",
              "<style scoped>\n",
              "    .dataframe tbody tr th:only-of-type {\n",
              "        vertical-align: middle;\n",
              "    }\n",
              "\n",
              "    .dataframe tbody tr th {\n",
              "        vertical-align: top;\n",
              "    }\n",
              "\n",
              "    .dataframe thead th {\n",
              "        text-align: right;\n",
              "    }\n",
              "</style>\n",
              "<table border=\"1\" class=\"dataframe\">\n",
              "  <thead>\n",
              "    <tr style=\"text-align: right;\">\n",
              "      <th></th>\n",
              "      <th>ID</th>\n",
              "      <th>LIMIT_BAL</th>\n",
              "      <th>EDUCATION</th>\n",
              "      <th>AGE</th>\n",
              "      <th>PAY_0</th>\n",
              "      <th>PAY_2</th>\n",
              "      <th>PAY_3</th>\n",
              "      <th>PAY_4</th>\n",
              "      <th>PAY_5</th>\n",
              "      <th>PAY_6</th>\n",
              "      <th>...</th>\n",
              "      <th>BILL_AMT4</th>\n",
              "      <th>BILL_AMT5</th>\n",
              "      <th>BILL_AMT6</th>\n",
              "      <th>PAY_AMT1</th>\n",
              "      <th>PAY_AMT2</th>\n",
              "      <th>PAY_AMT3</th>\n",
              "      <th>PAY_AMT4</th>\n",
              "      <th>PAY_AMT5</th>\n",
              "      <th>PAY_AMT6</th>\n",
              "      <th>label</th>\n",
              "    </tr>\n",
              "  </thead>\n",
              "  <tbody>\n",
              "    <tr>\n",
              "      <th>0</th>\n",
              "      <td>22500</td>\n",
              "      <td>7</td>\n",
              "      <td>1</td>\n",
              "      <td>3</td>\n",
              "      <td>2</td>\n",
              "      <td>1</td>\n",
              "      <td>2</td>\n",
              "      <td>1</td>\n",
              "      <td>2</td>\n",
              "      <td>2</td>\n",
              "      <td>...</td>\n",
              "      <td>1</td>\n",
              "      <td>3</td>\n",
              "      <td>2</td>\n",
              "      <td>2</td>\n",
              "      <td>2</td>\n",
              "      <td>2</td>\n",
              "      <td>3</td>\n",
              "      <td>2</td>\n",
              "      <td>6</td>\n",
              "      <td>0</td>\n",
              "    </tr>\n",
              "    <tr>\n",
              "      <th>1</th>\n",
              "      <td>22501</td>\n",
              "      <td>5</td>\n",
              "      <td>1</td>\n",
              "      <td>2</td>\n",
              "      <td>1</td>\n",
              "      <td>1</td>\n",
              "      <td>1</td>\n",
              "      <td>1</td>\n",
              "      <td>1</td>\n",
              "      <td>1</td>\n",
              "      <td>...</td>\n",
              "      <td>1</td>\n",
              "      <td>0</td>\n",
              "      <td>0</td>\n",
              "      <td>0</td>\n",
              "      <td>1</td>\n",
              "      <td>2</td>\n",
              "      <td>2</td>\n",
              "      <td>2</td>\n",
              "      <td>5</td>\n",
              "      <td>0</td>\n",
              "    </tr>\n",
              "    <tr>\n",
              "      <th>2</th>\n",
              "      <td>22502</td>\n",
              "      <td>6</td>\n",
              "      <td>0</td>\n",
              "      <td>2</td>\n",
              "      <td>2</td>\n",
              "      <td>1</td>\n",
              "      <td>2</td>\n",
              "      <td>2</td>\n",
              "      <td>2</td>\n",
              "      <td>2</td>\n",
              "      <td>...</td>\n",
              "      <td>1</td>\n",
              "      <td>3</td>\n",
              "      <td>1</td>\n",
              "      <td>1</td>\n",
              "      <td>2</td>\n",
              "      <td>1</td>\n",
              "      <td>2</td>\n",
              "      <td>2</td>\n",
              "      <td>5</td>\n",
              "      <td>0</td>\n",
              "    </tr>\n",
              "    <tr>\n",
              "      <th>3</th>\n",
              "      <td>22503</td>\n",
              "      <td>1</td>\n",
              "      <td>1</td>\n",
              "      <td>3</td>\n",
              "      <td>2</td>\n",
              "      <td>1</td>\n",
              "      <td>3</td>\n",
              "      <td>3</td>\n",
              "      <td>3</td>\n",
              "      <td>2</td>\n",
              "      <td>...</td>\n",
              "      <td>1</td>\n",
              "      <td>2</td>\n",
              "      <td>1</td>\n",
              "      <td>1</td>\n",
              "      <td>2</td>\n",
              "      <td>0</td>\n",
              "      <td>0</td>\n",
              "      <td>1</td>\n",
              "      <td>2</td>\n",
              "      <td>1</td>\n",
              "    </tr>\n",
              "    <tr>\n",
              "      <th>4</th>\n",
              "      <td>22504</td>\n",
              "      <td>6</td>\n",
              "      <td>1</td>\n",
              "      <td>2</td>\n",
              "      <td>2</td>\n",
              "      <td>1</td>\n",
              "      <td>2</td>\n",
              "      <td>2</td>\n",
              "      <td>2</td>\n",
              "      <td>2</td>\n",
              "      <td>...</td>\n",
              "      <td>1</td>\n",
              "      <td>3</td>\n",
              "      <td>2</td>\n",
              "      <td>2</td>\n",
              "      <td>3</td>\n",
              "      <td>2</td>\n",
              "      <td>3</td>\n",
              "      <td>2</td>\n",
              "      <td>6</td>\n",
              "      <td>1</td>\n",
              "    </tr>\n",
              "  </tbody>\n",
              "</table>\n",
              "<p>5 rows × 23 columns</p>\n",
              "</div>\n",
              "      <button class=\"colab-df-convert\" onclick=\"convertToInteractive('df-f55c8094-0b74-45a1-a719-9c00c7a5f536')\"\n",
              "              title=\"Convert this dataframe to an interactive table.\"\n",
              "              style=\"display:none;\">\n",
              "        \n",
              "  <svg xmlns=\"http://www.w3.org/2000/svg\" height=\"24px\"viewBox=\"0 0 24 24\"\n",
              "       width=\"24px\">\n",
              "    <path d=\"M0 0h24v24H0V0z\" fill=\"none\"/>\n",
              "    <path d=\"M18.56 5.44l.94 2.06.94-2.06 2.06-.94-2.06-.94-.94-2.06-.94 2.06-2.06.94zm-11 1L8.5 8.5l.94-2.06 2.06-.94-2.06-.94L8.5 2.5l-.94 2.06-2.06.94zm10 10l.94 2.06.94-2.06 2.06-.94-2.06-.94-.94-2.06-.94 2.06-2.06.94z\"/><path d=\"M17.41 7.96l-1.37-1.37c-.4-.4-.92-.59-1.43-.59-.52 0-1.04.2-1.43.59L10.3 9.45l-7.72 7.72c-.78.78-.78 2.05 0 2.83L4 21.41c.39.39.9.59 1.41.59.51 0 1.02-.2 1.41-.59l7.78-7.78 2.81-2.81c.8-.78.8-2.07 0-2.86zM5.41 20L4 18.59l7.72-7.72 1.47 1.35L5.41 20z\"/>\n",
              "  </svg>\n",
              "      </button>\n",
              "      \n",
              "  <style>\n",
              "    .colab-df-container {\n",
              "      display:flex;\n",
              "      flex-wrap:wrap;\n",
              "      gap: 12px;\n",
              "    }\n",
              "\n",
              "    .colab-df-convert {\n",
              "      background-color: #E8F0FE;\n",
              "      border: none;\n",
              "      border-radius: 50%;\n",
              "      cursor: pointer;\n",
              "      display: none;\n",
              "      fill: #1967D2;\n",
              "      height: 32px;\n",
              "      padding: 0 0 0 0;\n",
              "      width: 32px;\n",
              "    }\n",
              "\n",
              "    .colab-df-convert:hover {\n",
              "      background-color: #E2EBFA;\n",
              "      box-shadow: 0px 1px 2px rgba(60, 64, 67, 0.3), 0px 1px 3px 1px rgba(60, 64, 67, 0.15);\n",
              "      fill: #174EA6;\n",
              "    }\n",
              "\n",
              "    [theme=dark] .colab-df-convert {\n",
              "      background-color: #3B4455;\n",
              "      fill: #D2E3FC;\n",
              "    }\n",
              "\n",
              "    [theme=dark] .colab-df-convert:hover {\n",
              "      background-color: #434B5C;\n",
              "      box-shadow: 0px 1px 3px 1px rgba(0, 0, 0, 0.15);\n",
              "      filter: drop-shadow(0px 1px 2px rgba(0, 0, 0, 0.3));\n",
              "      fill: #FFFFFF;\n",
              "    }\n",
              "  </style>\n",
              "\n",
              "      <script>\n",
              "        const buttonEl =\n",
              "          document.querySelector('#df-f55c8094-0b74-45a1-a719-9c00c7a5f536 button.colab-df-convert');\n",
              "        buttonEl.style.display =\n",
              "          google.colab.kernel.accessAllowed ? 'block' : 'none';\n",
              "\n",
              "        async function convertToInteractive(key) {\n",
              "          const element = document.querySelector('#df-f55c8094-0b74-45a1-a719-9c00c7a5f536');\n",
              "          const dataTable =\n",
              "            await google.colab.kernel.invokeFunction('convertToInteractive',\n",
              "                                                     [key], {});\n",
              "          if (!dataTable) return;\n",
              "\n",
              "          const docLinkHtml = 'Like what you see? Visit the ' +\n",
              "            '<a target=\"_blank\" href=https://colab.research.google.com/notebooks/data_table.ipynb>data table notebook</a>'\n",
              "            + ' to learn more about interactive tables.';\n",
              "          element.innerHTML = '';\n",
              "          dataTable['output_type'] = 'display_data';\n",
              "          await google.colab.output.renderOutput(dataTable, element);\n",
              "          const docLink = document.createElement('div');\n",
              "          docLink.innerHTML = docLinkHtml;\n",
              "          element.appendChild(docLink);\n",
              "        }\n",
              "      </script>\n",
              "    </div>\n",
              "  </div>\n",
              "  "
            ]
          },
          "metadata": {},
          "execution_count": 119
        }
      ],
      "source": [
        "test_bin.head()"
      ]
    },
    {
      "cell_type": "code",
      "execution_count": null,
      "metadata": {
        "colab": {
          "base_uri": "https://localhost:8080/"
        },
        "id": "Di4DOM_LY9Qa",
        "outputId": "17df238d-da59-448d-f159-3aec8afdcc53"
      },
      "outputs": [
        {
          "output_type": "execute_result",
          "data": {
            "text/plain": [
              "21"
            ]
          },
          "metadata": {},
          "execution_count": 120
        }
      ],
      "source": [
        "features_list = [feat for feat in train_selected_bin.columns if feat not in exclude_list]\n",
        "len(features_list)"
      ]
    },
    {
      "cell_type": "code",
      "execution_count": null,
      "metadata": {
        "colab": {
          "base_uri": "https://localhost:8080/",
          "height": 1000
        },
        "id": "g1Eah8zsY9Qb",
        "outputId": "767c61b4-6378-4895-81b6-9af834219296"
      },
      "outputs": [
        {
          "output_type": "execute_result",
          "data": {
            "text/plain": [
              "<Axes: xlabel='PAY_AMT1', ylabel='prop'>"
            ]
          },
          "metadata": {},
          "execution_count": 121
        },
        {
          "output_type": "display_data",
          "data": {
            "text/plain": [
              "<Figure size 1200x600 with 2 Axes>"
            ],
            "image/png": "[encoded data removed]"
          },
          "metadata": {}
        },
        {
          "output_type": "display_data",
          "data": {
            "text/plain": [
              "<Figure size 1200x600 with 2 Axes>"
            ],
            "image/png": "[encoded data removed]"
          },
          "metadata": {}
        }
      ],
      "source": [
        "#Fine tune bins\n",
        "from toad.plot import  bin_plot,badrate_plot\n",
        "bin_plot(train_selected_bin,x='PAY_AMT1',target='label')\n",
        "bin_plot(test_bin,x='PAY_AMT1',target='label')"
      ]
    },
    {
      "cell_type": "code",
      "execution_count": null,
      "metadata": {
        "id": "SeNgV9TtY9Qc"
      },
      "outputs": [],
      "source": [
        "#setting rules\n",
        "#rule = {'PAY_AMT1':[['0', 'nan'],['1'], ['2'], ['3']]}\n",
        "\n",
        "#Adjust binning\n",
        "#c.set_rules(rule)"
      ]
    },
    {
      "cell_type": "code",
      "execution_count": null,
      "metadata": {
        "colab": {
          "base_uri": "https://localhost:8080/"
        },
        "id": "kN-HXHwpY9Qd",
        "outputId": "eae1f724-a117-49ec-ce6e-58cc8ea48d62"
      },
      "outputs": [
        {
          "output_type": "execute_result",
          "data": {
            "text/plain": [
              "count    22499.000000\n",
              "mean         1.988711\n",
              "std          1.038531\n",
              "min          0.000000\n",
              "25%          1.000000\n",
              "50%          2.000000\n",
              "75%          2.000000\n",
              "max          4.000000\n",
              "Name: PAY_0, dtype: float64"
            ]
          },
          "metadata": {},
          "execution_count": 123
        }
      ],
      "source": [
        "train_selected_bin.PAY_0.describe()"
      ]
    },
    {
      "cell_type": "markdown",
      "metadata": {
        "id": "bcXq0DxnY9Qg"
      },
      "source": [
        "# 4. Transform to WOE"
      ]
    },
    {
      "cell_type": "code",
      "execution_count": null,
      "metadata": {
        "id": "laK3g-0VY9Qh"
      },
      "outputs": [],
      "source": [
        "##转化成WOE映射\n",
        "t=toad.transform.WOETransformer()\n",
        "#transform training set\n",
        "train_woe = t.fit_transform(X=train_selected_bin,\n",
        "                            y=train_selected_bin['label'], \n",
        "                            exclude=exclude_list)\n",
        "#transform testing set\n",
        "test_woe = t.transform(test_bin)"
      ]
    },
    {
      "cell_type": "code",
      "execution_count": null,
      "metadata": {
        "colab": {
          "base_uri": "https://localhost:8080/",
          "height": 299
        },
        "id": "WT6BVgjyY9Qi",
        "outputId": "390f67e4-71d5-4e83-c7d4-6272aeeeec0c"
      },
      "outputs": [
        {
          "output_type": "execute_result",
          "data": {
            "text/plain": [
              "   ID  LIMIT_BAL  EDUCATION       AGE     PAY_0     PAY_2     PAY_3     PAY_4  \\\n",
              "0   1   0.666522   0.089338  0.260065  2.019269  1.459809 -0.417749 -0.383479   \n",
              "1   2  -0.034630   0.089338 -0.100163 -0.308169  1.459809 -0.296556 -0.230510   \n",
              "2   3   0.108342   0.089338 -0.028816 -0.677822 -0.408118 -0.296556 -0.230510   \n",
              "3   4   0.200392   0.089338 -0.028816 -0.677822 -0.408118 -0.296556 -0.230510   \n",
              "4   5   0.200392   0.089338  0.156679 -0.308169 -0.408118 -0.417749 -0.230510   \n",
              "\n",
              "      PAY_5     PAY_6  ...  BILL_AMT4  BILL_AMT5  BILL_AMT6  PAY_AMT1  \\\n",
              "0 -0.146325 -0.117947  ...   0.028510  -0.006521  -0.034304  0.662394   \n",
              "1 -0.203587  1.282840  ...  -0.009858  -0.239312  -0.034304  0.662394   \n",
              "2 -0.203587 -0.201216  ...  -0.009858   0.140562  -0.034304 -0.009085   \n",
              "3 -0.203587 -0.201216  ...  -0.009858   0.140562   0.162615 -0.009085   \n",
              "4 -0.203587 -0.201216  ...  -0.009858   0.140562  -0.034304 -0.009085   \n",
              "\n",
              "   PAY_AMT2  PAY_AMT3  PAY_AMT4  PAY_AMT5  PAY_AMT6  label  \n",
              "0  0.124160  0.488183  0.454327  0.370272  0.343887      1  \n",
              "1  0.124160  0.016060  0.056501  0.370272 -0.082401      1  \n",
              "2  0.124160  0.016060  0.056501  0.084926 -0.391360      0  \n",
              "3 -0.076846  0.016060  0.056501  0.084926 -0.119586      0  \n",
              "4 -1.078550 -0.372758 -0.457199  0.084926  0.257636      0  \n",
              "\n",
              "[5 rows x 23 columns]"
            ],
            "text/html": [
              "\n",
              "  <div id=\"df-0ed677bf-751b-4a07-a796-789395f8eef1\">\n",
              "    <div class=\"colab-df-container\">\n",
              "      <div>\n",
              "<style scoped>\n",
              "    .dataframe tbody tr th:only-of-type {\n",
              "        vertical-align: middle;\n",
              "    }\n",
              "\n",
              "    .dataframe tbody tr th {\n",
              "        vertical-align: top;\n",
              "    }\n",
              "\n",
              "    .dataframe thead th {\n",
              "        text-align: right;\n",
              "    }\n",
              "</style>\n",
              "<table border=\"1\" class=\"dataframe\">\n",
              "  <thead>\n",
              "    <tr style=\"text-align: right;\">\n",
              "      <th></th>\n",
              "      <th>ID</th>\n",
              "      <th>LIMIT_BAL</th>\n",
              "      <th>EDUCATION</th>\n",
              "      <th>AGE</th>\n",
              "      <th>PAY_0</th>\n",
              "      <th>PAY_2</th>\n",
              "      <th>PAY_3</th>\n",
              "      <th>PAY_4</th>\n",
              "      <th>PAY_5</th>\n",
              "      <th>PAY_6</th>\n",
              "      <th>...</th>\n",
              "      <th>BILL_AMT4</th>\n",
              "      <th>BILL_AMT5</th>\n",
              "      <th>BILL_AMT6</th>\n",
              "      <th>PAY_AMT1</th>\n",
              "      <th>PAY_AMT2</th>\n",
              "      <th>PAY_AMT3</th>\n",
              "      <th>PAY_AMT4</th>\n",
              "      <th>PAY_AMT5</th>\n",
              "      <th>PAY_AMT6</th>\n",
              "      <th>label</th>\n",
              "    </tr>\n",
              "  </thead>\n",
              "  <tbody>\n",
              "    <tr>\n",
              "      <th>0</th>\n",
              "      <td>1</td>\n",
              "      <td>0.666522</td>\n",
              "      <td>0.089338</td>\n",
              "      <td>0.260065</td>\n",
              "      <td>2.019269</td>\n",
              "      <td>1.459809</td>\n",
              "      <td>-0.417749</td>\n",
              "      <td>-0.383479</td>\n",
              "      <td>-0.146325</td>\n",
              "      <td>-0.117947</td>\n",
              "      <td>...</td>\n",
              "      <td>0.028510</td>\n",
              "      <td>-0.006521</td>\n",
              "      <td>-0.034304</td>\n",
              "      <td>0.662394</td>\n",
              "      <td>0.124160</td>\n",
              "      <td>0.488183</td>\n",
              "      <td>0.454327</td>\n",
              "      <td>0.370272</td>\n",
              "      <td>0.343887</td>\n",
              "      <td>1</td>\n",
              "    </tr>\n",
              "    <tr>\n",
              "      <th>1</th>\n",
              "      <td>2</td>\n",
              "      <td>-0.034630</td>\n",
              "      <td>0.089338</td>\n",
              "      <td>-0.100163</td>\n",
              "      <td>-0.308169</td>\n",
              "      <td>1.459809</td>\n",
              "      <td>-0.296556</td>\n",
              "      <td>-0.230510</td>\n",
              "      <td>-0.203587</td>\n",
              "      <td>1.282840</td>\n",
              "      <td>...</td>\n",
              "      <td>-0.009858</td>\n",
              "      <td>-0.239312</td>\n",
              "      <td>-0.034304</td>\n",
              "      <td>0.662394</td>\n",
              "      <td>0.124160</td>\n",
              "      <td>0.016060</td>\n",
              "      <td>0.056501</td>\n",
              "      <td>0.370272</td>\n",
              "      <td>-0.082401</td>\n",
              "      <td>1</td>\n",
              "    </tr>\n",
              "    <tr>\n",
              "      <th>2</th>\n",
              "      <td>3</td>\n",
              "      <td>0.108342</td>\n",
              "      <td>0.089338</td>\n",
              "      <td>-0.028816</td>\n",
              "      <td>-0.677822</td>\n",
              "      <td>-0.408118</td>\n",
              "      <td>-0.296556</td>\n",
              "      <td>-0.230510</td>\n",
              "      <td>-0.203587</td>\n",
              "      <td>-0.201216</td>\n",
              "      <td>...</td>\n",
              "      <td>-0.009858</td>\n",
              "      <td>0.140562</td>\n",
              "      <td>-0.034304</td>\n",
              "      <td>-0.009085</td>\n",
              "      <td>0.124160</td>\n",
              "      <td>0.016060</td>\n",
              "      <td>0.056501</td>\n",
              "      <td>0.084926</td>\n",
              "      <td>-0.391360</td>\n",
              "      <td>0</td>\n",
              "    </tr>\n",
              "    <tr>\n",
              "      <th>3</th>\n",
              "      <td>4</td>\n",
              "      <td>0.200392</td>\n",
              "      <td>0.089338</td>\n",
              "      <td>-0.028816</td>\n",
              "      <td>-0.677822</td>\n",
              "      <td>-0.408118</td>\n",
              "      <td>-0.296556</td>\n",
              "      <td>-0.230510</td>\n",
              "      <td>-0.203587</td>\n",
              "      <td>-0.201216</td>\n",
              "      <td>...</td>\n",
              "      <td>-0.009858</td>\n",
              "      <td>0.140562</td>\n",
              "      <td>0.162615</td>\n",
              "      <td>-0.009085</td>\n",
              "      <td>-0.076846</td>\n",
              "      <td>0.016060</td>\n",
              "      <td>0.056501</td>\n",
              "      <td>0.084926</td>\n",
              "      <td>-0.119586</td>\n",
              "      <td>0</td>\n",
              "    </tr>\n",
              "    <tr>\n",
              "      <th>4</th>\n",
              "      <td>5</td>\n",
              "      <td>0.200392</td>\n",
              "      <td>0.089338</td>\n",
              "      <td>0.156679</td>\n",
              "      <td>-0.308169</td>\n",
              "      <td>-0.408118</td>\n",
              "      <td>-0.417749</td>\n",
              "      <td>-0.230510</td>\n",
              "      <td>-0.203587</td>\n",
              "      <td>-0.201216</td>\n",
              "      <td>...</td>\n",
              "      <td>-0.009858</td>\n",
              "      <td>0.140562</td>\n",
              "      <td>-0.034304</td>\n",
              "      <td>-0.009085</td>\n",
              "      <td>-1.078550</td>\n",
              "      <td>-0.372758</td>\n",
              "      <td>-0.457199</td>\n",
              "      <td>0.084926</td>\n",
              "      <td>0.257636</td>\n",
              "      <td>0</td>\n",
              "    </tr>\n",
              "  </tbody>\n",
              "</table>\n",
              "<p>5 rows × 23 columns</p>\n",
              "</div>\n",
              "      <button class=\"colab-df-convert\" onclick=\"convertToInteractive('df-0ed677bf-751b-4a07-a796-789395f8eef1')\"\n",
              "              title=\"Convert this dataframe to an interactive table.\"\n",
              "              style=\"display:none;\">\n",
              "        \n",
              "  <svg xmlns=\"http://www.w3.org/2000/svg\" height=\"24px\"viewBox=\"0 0 24 24\"\n",
              "       width=\"24px\">\n",
              "    <path d=\"M0 0h24v24H0V0z\" fill=\"none\"/>\n",
              "    <path d=\"M18.56 5.44l.94 2.06.94-2.06 2.06-.94-2.06-.94-.94-2.06-.94 2.06-2.06.94zm-11 1L8.5 8.5l.94-2.06 2.06-.94-2.06-.94L8.5 2.5l-.94 2.06-2.06.94zm10 10l.94 2.06.94-2.06 2.06-.94-2.06-.94-.94-2.06-.94 2.06-2.06.94z\"/><path d=\"M17.41 7.96l-1.37-1.37c-.4-.4-.92-.59-1.43-.59-.52 0-1.04.2-1.43.59L10.3 9.45l-7.72 7.72c-.78.78-.78 2.05 0 2.83L4 21.41c.39.39.9.59 1.41.59.51 0 1.02-.2 1.41-.59l7.78-7.78 2.81-2.81c.8-.78.8-2.07 0-2.86zM5.41 20L4 18.59l7.72-7.72 1.47 1.35L5.41 20z\"/>\n",
              "  </svg>\n",
              "      </button>\n",
              "      \n",
              "  <style>\n",
              "    .colab-df-container {\n",
              "      display:flex;\n",
              "      flex-wrap:wrap;\n",
              "      gap: 12px;\n",
              "    }\n",
              "\n",
              "    .colab-df-convert {\n",
              "      background-color: #E8F0FE;\n",
              "      border: none;\n",
              "      border-radius: 50%;\n",
              "      cursor: pointer;\n",
              "      display: none;\n",
              "      fill: #1967D2;\n",
              "      height: 32px;\n",
              "      padding: 0 0 0 0;\n",
              "      width: 32px;\n",
              "    }\n",
              "\n",
              "    .colab-df-convert:hover {\n",
              "      background-color: #E2EBFA;\n",
              "      box-shadow: 0px 1px 2px rgba(60, 64, 67, 0.3), 0px 1px 3px 1px rgba(60, 64, 67, 0.15);\n",
              "      fill: #174EA6;\n",
              "    }\n",
              "\n",
              "    [theme=dark] .colab-df-convert {\n",
              "      background-color: #3B4455;\n",
              "      fill: #D2E3FC;\n",
              "    }\n",
              "\n",
              "    [theme=dark] .colab-df-convert:hover {\n",
              "      background-color: #434B5C;\n",
              "      box-shadow: 0px 1px 3px 1px rgba(0, 0, 0, 0.15);\n",
              "      filter: drop-shadow(0px 1px 2px rgba(0, 0, 0, 0.3));\n",
              "      fill: #FFFFFF;\n",
              "    }\n",
              "  </style>\n",
              "\n",
              "      <script>\n",
              "        const buttonEl =\n",
              "          document.querySelector('#df-0ed677bf-751b-4a07-a796-789395f8eef1 button.colab-df-convert');\n",
              "        buttonEl.style.display =\n",
              "          google.colab.kernel.accessAllowed ? 'block' : 'none';\n",
              "\n",
              "        async function convertToInteractive(key) {\n",
              "          const element = document.querySelector('#df-0ed677bf-751b-4a07-a796-789395f8eef1');\n",
              "          const dataTable =\n",
              "            await google.colab.kernel.invokeFunction('convertToInteractive',\n",
              "                                                     [key], {});\n",
              "          if (!dataTable) return;\n",
              "\n",
              "          const docLinkHtml = 'Like what you see? Visit the ' +\n",
              "            '<a target=\"_blank\" href=https://colab.research.google.com/notebooks/data_table.ipynb>data table notebook</a>'\n",
              "            + ' to learn more about interactive tables.';\n",
              "          element.innerHTML = '';\n",
              "          dataTable['output_type'] = 'display_data';\n",
              "          await google.colab.output.renderOutput(dataTable, element);\n",
              "          const docLink = document.createElement('div');\n",
              "          docLink.innerHTML = docLinkHtml;\n",
              "          element.appendChild(docLink);\n",
              "        }\n",
              "      </script>\n",
              "    </div>\n",
              "  </div>\n",
              "  "
            ]
          },
          "metadata": {},
          "execution_count": 125
        }
      ],
      "source": [
        "train_woe.head()"
      ]
    },
    {
      "cell_type": "code",
      "execution_count": null,
      "metadata": {
        "id": "GA8CplH0Y9Qk"
      },
      "outputs": [],
      "source": [
        "final_data_woe = pd.concat([train_woe,test_woe])"
      ]
    },
    {
      "cell_type": "code",
      "execution_count": null,
      "metadata": {
        "id": "6yIlHAR4Y9Ql"
      },
      "outputs": [],
      "source": [
        "#save 2: pickle woe_transform\n",
        "filename = 'CreditScore_save2_woe_transform.pkl'\n",
        "pickle.dump(t, open(filename, 'wb'))"
      ]
    },
    {
      "cell_type": "code",
      "execution_count": null,
      "metadata": {
        "id": "4QH_i1CIY9Qm"
      },
      "outputs": [],
      "source": [
        "features_use = [feat for feat in final_data_woe.columns if feat not in exclude_list]"
      ]
    },
    {
      "cell_type": "code",
      "execution_count": null,
      "metadata": {
        "colab": {
          "base_uri": "https://localhost:8080/"
        },
        "id": "pr1xBUy5Y9Qo",
        "outputId": "d22e4d78-bf92-48be-cf5e-4265605c4abb"
      },
      "outputs": [
        {
          "output_type": "execute_result",
          "data": {
            "text/plain": [
              "21"
            ]
          },
          "metadata": {},
          "execution_count": 129
        }
      ],
      "source": [
        "len(features_use)"
      ]
    },
    {
      "cell_type": "markdown",
      "metadata": {
        "id": "zwi12IrJY9Qp"
      },
      "source": [
        "## Calculate PSI\n",
        "* PSI (Population Stability Index) reflects the stability of the distribution. We often use it to screen features and evaluate model stability. The industry level is to drop features with a PSI greater than 0.2"
      ]
    },
    {
      "cell_type": "code",
      "execution_count": null,
      "metadata": {
        "colab": {
          "base_uri": "https://localhost:8080/"
        },
        "id": "cEC-2WYyY9Qq",
        "outputId": "1213de1b-af04-472e-b447-a5846a29bef4"
      },
      "outputs": [
        {
          "output_type": "stream",
          "name": "stderr",
          "text": [
            "<ipython-input-130-b1c5be6aaa6d>:4: FutureWarning: In a future version of pandas all arguments of Series.sort_values will be keyword-only.\n",
            "  psi_df = toad.metrics.PSI(train_woe[features_list], test_woe[features_list]).sort_values(0)\n"
          ]
        }
      ],
      "source": [
        "#get the feature name\n",
        "features_list = [feat for feat in train_woe.columns if feat not in exclude_list]\n",
        "#calculate PSI using toad\n",
        "psi_df = toad.metrics.PSI(train_woe[features_list], test_woe[features_list]).sort_values(0)\n",
        "#put into a dataframe\n",
        "psi_df = psi_df.reset_index()\n",
        "psi_df = psi_df.rename(columns = {'index' : 'feature',0:'psi'})"
      ]
    },
    {
      "cell_type": "code",
      "execution_count": null,
      "metadata": {
        "colab": {
          "base_uri": "https://localhost:8080/",
          "height": 707
        },
        "id": "n7CKfJOYY9Qr",
        "outputId": "283b80af-0c0d-47f9-b5db-d85fd88931a2"
      },
      "outputs": [
        {
          "output_type": "execute_result",
          "data": {
            "text/plain": [
              "      feature       psi\n",
              "0   EDUCATION  0.000258\n",
              "1   BILL_AMT4  0.000330\n",
              "2   BILL_AMT6  0.001591\n",
              "3   BILL_AMT5  0.002520\n",
              "4   BILL_AMT1  0.002634\n",
              "5    PAY_AMT5  0.003066\n",
              "6    PAY_AMT1  0.003402\n",
              "7    PAY_AMT4  0.004556\n",
              "8   BILL_AMT2  0.005398\n",
              "9    PAY_AMT6  0.007230\n",
              "10  BILL_AMT3  0.007589\n",
              "11   PAY_AMT2  0.010605\n",
              "12      PAY_4  0.011666\n",
              "13      PAY_3  0.011933\n",
              "14      PAY_2  0.012077\n",
              "15      PAY_5  0.014513\n",
              "16   PAY_AMT3  0.016165\n",
              "17  LIMIT_BAL  0.018541\n",
              "18      PAY_6  0.019574\n",
              "19      PAY_0  0.022814\n",
              "20        AGE  0.035298"
            ],
            "text/html": [
              "\n",
              "  <div id=\"df-22d84ff8-91b0-4716-be47-81d8e4446eab\">\n",
              "    <div class=\"colab-df-container\">\n",
              "      <div>\n",
              "<style scoped>\n",
              "    .dataframe tbody tr th:only-of-type {\n",
              "        vertical-align: middle;\n",
              "    }\n",
              "\n",
              "    .dataframe tbody tr th {\n",
              "        vertical-align: top;\n",
              "    }\n",
              "\n",
              "    .dataframe thead th {\n",
              "        text-align: right;\n",
              "    }\n",
              "</style>\n",
              "<table border=\"1\" class=\"dataframe\">\n",
              "  <thead>\n",
              "    <tr style=\"text-align: right;\">\n",
              "      <th></th>\n",
              "      <th>feature</th>\n",
              "      <th>psi</th>\n",
              "    </tr>\n",
              "  </thead>\n",
              "  <tbody>\n",
              "    <tr>\n",
              "      <th>0</th>\n",
              "      <td>EDUCATION</td>\n",
              "      <td>0.000258</td>\n",
              "    </tr>\n",
              "    <tr>\n",
              "      <th>1</th>\n",
              "      <td>BILL_AMT4</td>\n",
              "      <td>0.000330</td>\n",
              "    </tr>\n",
              "    <tr>\n",
              "      <th>2</th>\n",
              "      <td>BILL_AMT6</td>\n",
              "      <td>0.001591</td>\n",
              "    </tr>\n",
              "    <tr>\n",
              "      <th>3</th>\n",
              "      <td>BILL_AMT5</td>\n",
              "      <td>0.002520</td>\n",
              "    </tr>\n",
              "    <tr>\n",
              "      <th>4</th>\n",
              "      <td>BILL_AMT1</td>\n",
              "      <td>0.002634</td>\n",
              "    </tr>\n",
              "    <tr>\n",
              "      <th>5</th>\n",
              "      <td>PAY_AMT5</td>\n",
              "      <td>0.003066</td>\n",
              "    </tr>\n",
              "    <tr>\n",
              "      <th>6</th>\n",
              "      <td>PAY_AMT1</td>\n",
              "      <td>0.003402</td>\n",
              "    </tr>\n",
              "    <tr>\n",
              "      <th>7</th>\n",
              "      <td>PAY_AMT4</td>\n",
              "      <td>0.004556</td>\n",
              "    </tr>\n",
              "    <tr>\n",
              "      <th>8</th>\n",
              "      <td>BILL_AMT2</td>\n",
              "      <td>0.005398</td>\n",
              "    </tr>\n",
              "    <tr>\n",
              "      <th>9</th>\n",
              "      <td>PAY_AMT6</td>\n",
              "      <td>0.007230</td>\n",
              "    </tr>\n",
              "    <tr>\n",
              "      <th>10</th>\n",
              "      <td>BILL_AMT3</td>\n",
              "      <td>0.007589</td>\n",
              "    </tr>\n",
              "    <tr>\n",
              "      <th>11</th>\n",
              "      <td>PAY_AMT2</td>\n",
              "      <td>0.010605</td>\n",
              "    </tr>\n",
              "    <tr>\n",
              "      <th>12</th>\n",
              "      <td>PAY_4</td>\n",
              "      <td>0.011666</td>\n",
              "    </tr>\n",
              "    <tr>\n",
              "      <th>13</th>\n",
              "      <td>PAY_3</td>\n",
              "      <td>0.011933</td>\n",
              "    </tr>\n",
              "    <tr>\n",
              "      <th>14</th>\n",
              "      <td>PAY_2</td>\n",
              "      <td>0.012077</td>\n",
              "    </tr>\n",
              "    <tr>\n",
              "      <th>15</th>\n",
              "      <td>PAY_5</td>\n",
              "      <td>0.014513</td>\n",
              "    </tr>\n",
              "    <tr>\n",
              "      <th>16</th>\n",
              "      <td>PAY_AMT3</td>\n",
              "      <td>0.016165</td>\n",
              "    </tr>\n",
              "    <tr>\n",
              "      <th>17</th>\n",
              "      <td>LIMIT_BAL</td>\n",
              "      <td>0.018541</td>\n",
              "    </tr>\n",
              "    <tr>\n",
              "      <th>18</th>\n",
              "      <td>PAY_6</td>\n",
              "      <td>0.019574</td>\n",
              "    </tr>\n",
              "    <tr>\n",
              "      <th>19</th>\n",
              "      <td>PAY_0</td>\n",
              "      <td>0.022814</td>\n",
              "    </tr>\n",
              "    <tr>\n",
              "      <th>20</th>\n",
              "      <td>AGE</td>\n",
              "      <td>0.035298</td>\n",
              "    </tr>\n",
              "  </tbody>\n",
              "</table>\n",
              "</div>\n",
              "      <button class=\"colab-df-convert\" onclick=\"convertToInteractive('df-22d84ff8-91b0-4716-be47-81d8e4446eab')\"\n",
              "              title=\"Convert this dataframe to an interactive table.\"\n",
              "              style=\"display:none;\">\n",
              "        \n",
              "  <svg xmlns=\"http://www.w3.org/2000/svg\" height=\"24px\"viewBox=\"0 0 24 24\"\n",
              "       width=\"24px\">\n",
              "    <path d=\"M0 0h24v24H0V0z\" fill=\"none\"/>\n",
              "    <path d=\"M18.56 5.44l.94 2.06.94-2.06 2.06-.94-2.06-.94-.94-2.06-.94 2.06-2.06.94zm-11 1L8.5 8.5l.94-2.06 2.06-.94-2.06-.94L8.5 2.5l-.94 2.06-2.06.94zm10 10l.94 2.06.94-2.06 2.06-.94-2.06-.94-.94-2.06-.94 2.06-2.06.94z\"/><path d=\"M17.41 7.96l-1.37-1.37c-.4-.4-.92-.59-1.43-.59-.52 0-1.04.2-1.43.59L10.3 9.45l-7.72 7.72c-.78.78-.78 2.05 0 2.83L4 21.41c.39.39.9.59 1.41.59.51 0 1.02-.2 1.41-.59l7.78-7.78 2.81-2.81c.8-.78.8-2.07 0-2.86zM5.41 20L4 18.59l7.72-7.72 1.47 1.35L5.41 20z\"/>\n",
              "  </svg>\n",
              "      </button>\n",
              "      \n",
              "  <style>\n",
              "    .colab-df-container {\n",
              "      display:flex;\n",
              "      flex-wrap:wrap;\n",
              "      gap: 12px;\n",
              "    }\n",
              "\n",
              "    .colab-df-convert {\n",
              "      background-color: #E8F0FE;\n",
              "      border: none;\n",
              "      border-radius: 50%;\n",
              "      cursor: pointer;\n",
              "      display: none;\n",
              "      fill: #1967D2;\n",
              "      height: 32px;\n",
              "      padding: 0 0 0 0;\n",
              "      width: 32px;\n",
              "    }\n",
              "\n",
              "    .colab-df-convert:hover {\n",
              "      background-color: #E2EBFA;\n",
              "      box-shadow: 0px 1px 2px rgba(60, 64, 67, 0.3), 0px 1px 3px 1px rgba(60, 64, 67, 0.15);\n",
              "      fill: #174EA6;\n",
              "    }\n",
              "\n",
              "    [theme=dark] .colab-df-convert {\n",
              "      background-color: #3B4455;\n",
              "      fill: #D2E3FC;\n",
              "    }\n",
              "\n",
              "    [theme=dark] .colab-df-convert:hover {\n",
              "      background-color: #434B5C;\n",
              "      box-shadow: 0px 1px 3px 1px rgba(0, 0, 0, 0.15);\n",
              "      filter: drop-shadow(0px 1px 2px rgba(0, 0, 0, 0.3));\n",
              "      fill: #FFFFFF;\n",
              "    }\n",
              "  </style>\n",
              "\n",
              "      <script>\n",
              "        const buttonEl =\n",
              "          document.querySelector('#df-22d84ff8-91b0-4716-be47-81d8e4446eab button.colab-df-convert');\n",
              "        buttonEl.style.display =\n",
              "          google.colab.kernel.accessAllowed ? 'block' : 'none';\n",
              "\n",
              "        async function convertToInteractive(key) {\n",
              "          const element = document.querySelector('#df-22d84ff8-91b0-4716-be47-81d8e4446eab');\n",
              "          const dataTable =\n",
              "            await google.colab.kernel.invokeFunction('convertToInteractive',\n",
              "                                                     [key], {});\n",
              "          if (!dataTable) return;\n",
              "\n",
              "          const docLinkHtml = 'Like what you see? Visit the ' +\n",
              "            '<a target=\"_blank\" href=https://colab.research.google.com/notebooks/data_table.ipynb>data table notebook</a>'\n",
              "            + ' to learn more about interactive tables.';\n",
              "          element.innerHTML = '';\n",
              "          dataTable['output_type'] = 'display_data';\n",
              "          await google.colab.output.renderOutput(dataTable, element);\n",
              "          const docLink = document.createElement('div');\n",
              "          docLink.innerHTML = docLinkHtml;\n",
              "          element.appendChild(docLink);\n",
              "        }\n",
              "      </script>\n",
              "    </div>\n",
              "  </div>\n",
              "  "
            ]
          },
          "metadata": {},
          "execution_count": 131
        }
      ],
      "source": [
        "psi_df"
      ]
    },
    {
      "cell_type": "code",
      "execution_count": null,
      "metadata": {
        "id": "xSc-xBZZY9Qw"
      },
      "outputs": [],
      "source": [
        "# features less than 0.25\n",
        "psi025 = list(psi_df[psi_df.psi<0.25].feature)\n",
        "# features geater than 0.25\n",
        "psi_remove = list(psi_df[psi_df.psi>=0.25].feature)"
      ]
    },
    {
      "cell_type": "code",
      "execution_count": null,
      "metadata": {
        "colab": {
          "base_uri": "https://localhost:8080/"
        },
        "id": "dtMcIS8tY9Qx",
        "outputId": "bad6a75f-fcf8-4615-c1e3-fbcff2fc2aed"
      },
      "outputs": [
        {
          "output_type": "execute_result",
          "data": {
            "text/plain": [
              "[]"
            ]
          },
          "metadata": {},
          "execution_count": 133
        }
      ],
      "source": [
        "psi_remove"
      ]
    },
    {
      "cell_type": "code",
      "execution_count": null,
      "metadata": {
        "id": "y7q-nug3Y9Qy"
      },
      "outputs": [],
      "source": [
        "# keep exclude list\n",
        "for i in exclude_list:\n",
        "    if i in psi025:\n",
        "        pass\n",
        "    else:\n",
        "       psi025.append(i) "
      ]
    },
    {
      "cell_type": "code",
      "execution_count": null,
      "metadata": {
        "id": "kk_dv4H3Y9Qz"
      },
      "outputs": [],
      "source": [
        "# remove features that are geater than 0.25\n",
        "train_selected_woe_psi = train_woe[psi025]\n",
        "off_woe_psi = test_woe[psi025]"
      ]
    },
    {
      "cell_type": "code",
      "execution_count": null,
      "metadata": {
        "id": "wvEklBY_Y9Q0"
      },
      "outputs": [],
      "source": [
        "# output our final data table\n",
        "final_data_woe = pd.concat([train_selected_woe_psi,off_woe_psi])"
      ]
    },
    {
      "cell_type": "code",
      "execution_count": null,
      "metadata": {
        "colab": {
          "base_uri": "https://localhost:8080/"
        },
        "id": "YuMxe1tKY9Q2",
        "outputId": "add8d0b8-d92e-4825-a316-18c3114dce9c"
      },
      "outputs": [
        {
          "output_type": "stream",
          "name": "stdout",
          "text": [
            "(30000, 23)\n"
          ]
        }
      ],
      "source": [
        "print(final_data_woe.shape)"
      ]
    },
    {
      "cell_type": "code",
      "execution_count": null,
      "metadata": {
        "id": "M27Yp3DMY9Q3"
      },
      "outputs": [],
      "source": [
        "#save 3: final data table with transformed woe\n",
        "final_data_woe.to_csv('CreditScore_save3_final_data_woe.csv')"
      ]
    },
    {
      "cell_type": "markdown",
      "metadata": {
        "id": "7AmfGPPLY9Q4"
      },
      "source": [
        "# 5. Output IV"
      ]
    },
    {
      "cell_type": "code",
      "execution_count": null,
      "metadata": {
        "colab": {
          "base_uri": "https://localhost:8080/"
        },
        "id": "nlYzNJ2HY9Q5",
        "outputId": "363c3375-e32f-4bac-9f85-fa3ab6b5898a"
      },
      "outputs": [
        {
          "output_type": "execute_result",
          "data": {
            "text/plain": [
              "21"
            ]
          },
          "metadata": {},
          "execution_count": 139
        }
      ],
      "source": [
        "features_use = [feat for feat in final_data_woe.columns if feat not in exclude_list]\n",
        "len(features_use)"
      ]
    },
    {
      "cell_type": "code",
      "execution_count": null,
      "metadata": {
        "id": "LS-4rTQhY9Q6"
      },
      "outputs": [],
      "source": [
        "df_iv=output_iv_importance(final_data_woe[features_use+['label']],'label')"
      ]
    },
    {
      "cell_type": "code",
      "execution_count": null,
      "metadata": {
        "colab": {
          "base_uri": "https://localhost:8080/",
          "height": 707
        },
        "id": "PJJpwBVbY9Q7",
        "outputId": "e8b17bc0-1054-4d82-ad8d-a9e45d42a95b"
      },
      "outputs": [
        {
          "output_type": "execute_result",
          "data": {
            "text/plain": [
              "         name        iv\n",
              "0       PAY_0  0.873565\n",
              "1       PAY_2  0.546857\n",
              "2       PAY_3  0.412420\n",
              "3       PAY_4  0.359289\n",
              "4       PAY_5  0.333734\n",
              "5       PAY_6  0.285164\n",
              "6   LIMIT_BAL  0.181621\n",
              "7    PAY_AMT1  0.173425\n",
              "8    PAY_AMT2  0.162703\n",
              "9    PAY_AMT3  0.114630\n",
              "10   PAY_AMT4  0.104007\n",
              "11   PAY_AMT6  0.101453\n",
              "12   PAY_AMT5  0.087383\n",
              "13        AGE  0.021193\n",
              "14  EDUCATION  0.015987\n",
              "15  BILL_AMT5  0.012865\n",
              "16  BILL_AMT2  0.008361\n",
              "17  BILL_AMT6  0.007382\n",
              "18  BILL_AMT3  0.006877\n",
              "19  BILL_AMT1  0.002872\n",
              "20  BILL_AMT4  0.000979"
            ],
            "text/html": [
              "\n",
              "  <div id=\"df-895ffbf8-91d5-4a51-80b9-824c2a61187b\">\n",
              "    <div class=\"colab-df-container\">\n",
              "      <div>\n",
              "<style scoped>\n",
              "    .dataframe tbody tr th:only-of-type {\n",
              "        vertical-align: middle;\n",
              "    }\n",
              "\n",
              "    .dataframe tbody tr th {\n",
              "        vertical-align: top;\n",
              "    }\n",
              "\n",
              "    .dataframe thead th {\n",
              "        text-align: right;\n",
              "    }\n",
              "</style>\n",
              "<table border=\"1\" class=\"dataframe\">\n",
              "  <thead>\n",
              "    <tr style=\"text-align: right;\">\n",
              "      <th></th>\n",
              "      <th>name</th>\n",
              "      <th>iv</th>\n",
              "    </tr>\n",
              "  </thead>\n",
              "  <tbody>\n",
              "    <tr>\n",
              "      <th>0</th>\n",
              "      <td>PAY_0</td>\n",
              "      <td>0.873565</td>\n",
              "    </tr>\n",
              "    <tr>\n",
              "      <th>1</th>\n",
              "      <td>PAY_2</td>\n",
              "      <td>0.546857</td>\n",
              "    </tr>\n",
              "    <tr>\n",
              "      <th>2</th>\n",
              "      <td>PAY_3</td>\n",
              "      <td>0.412420</td>\n",
              "    </tr>\n",
              "    <tr>\n",
              "      <th>3</th>\n",
              "      <td>PAY_4</td>\n",
              "      <td>0.359289</td>\n",
              "    </tr>\n",
              "    <tr>\n",
              "      <th>4</th>\n",
              "      <td>PAY_5</td>\n",
              "      <td>0.333734</td>\n",
              "    </tr>\n",
              "    <tr>\n",
              "      <th>5</th>\n",
              "      <td>PAY_6</td>\n",
              "      <td>0.285164</td>\n",
              "    </tr>\n",
              "    <tr>\n",
              "      <th>6</th>\n",
              "      <td>LIMIT_BAL</td>\n",
              "      <td>0.181621</td>\n",
              "    </tr>\n",
              "    <tr>\n",
              "      <th>7</th>\n",
              "      <td>PAY_AMT1</td>\n",
              "      <td>0.173425</td>\n",
              "    </tr>\n",
              "    <tr>\n",
              "      <th>8</th>\n",
              "      <td>PAY_AMT2</td>\n",
              "      <td>0.162703</td>\n",
              "    </tr>\n",
              "    <tr>\n",
              "      <th>9</th>\n",
              "      <td>PAY_AMT3</td>\n",
              "      <td>0.114630</td>\n",
              "    </tr>\n",
              "    <tr>\n",
              "      <th>10</th>\n",
              "      <td>PAY_AMT4</td>\n",
              "      <td>0.104007</td>\n",
              "    </tr>\n",
              "    <tr>\n",
              "      <th>11</th>\n",
              "      <td>PAY_AMT6</td>\n",
              "      <td>0.101453</td>\n",
              "    </tr>\n",
              "    <tr>\n",
              "      <th>12</th>\n",
              "      <td>PAY_AMT5</td>\n",
              "      <td>0.087383</td>\n",
              "    </tr>\n",
              "    <tr>\n",
              "      <th>13</th>\n",
              "      <td>AGE</td>\n",
              "      <td>0.021193</td>\n",
              "    </tr>\n",
              "    <tr>\n",
              "      <th>14</th>\n",
              "      <td>EDUCATION</td>\n",
              "      <td>0.015987</td>\n",
              "    </tr>\n",
              "    <tr>\n",
              "      <th>15</th>\n",
              "      <td>BILL_AMT5</td>\n",
              "      <td>0.012865</td>\n",
              "    </tr>\n",
              "    <tr>\n",
              "      <th>16</th>\n",
              "      <td>BILL_AMT2</td>\n",
              "      <td>0.008361</td>\n",
              "    </tr>\n",
              "    <tr>\n",
              "      <th>17</th>\n",
              "      <td>BILL_AMT6</td>\n",
              "      <td>0.007382</td>\n",
              "    </tr>\n",
              "    <tr>\n",
              "      <th>18</th>\n",
              "      <td>BILL_AMT3</td>\n",
              "      <td>0.006877</td>\n",
              "    </tr>\n",
              "    <tr>\n",
              "      <th>19</th>\n",
              "      <td>BILL_AMT1</td>\n",
              "      <td>0.002872</td>\n",
              "    </tr>\n",
              "    <tr>\n",
              "      <th>20</th>\n",
              "      <td>BILL_AMT4</td>\n",
              "      <td>0.000979</td>\n",
              "    </tr>\n",
              "  </tbody>\n",
              "</table>\n",
              "</div>\n",
              "      <button class=\"colab-df-convert\" onclick=\"convertToInteractive('df-895ffbf8-91d5-4a51-80b9-824c2a61187b')\"\n",
              "              title=\"Convert this dataframe to an interactive table.\"\n",
              "              style=\"display:none;\">\n",
              "        \n",
              "  <svg xmlns=\"http://www.w3.org/2000/svg\" height=\"24px\"viewBox=\"0 0 24 24\"\n",
              "       width=\"24px\">\n",
              "    <path d=\"M0 0h24v24H0V0z\" fill=\"none\"/>\n",
              "    <path d=\"M18.56 5.44l.94 2.06.94-2.06 2.06-.94-2.06-.94-.94-2.06-.94 2.06-2.06.94zm-11 1L8.5 8.5l.94-2.06 2.06-.94-2.06-.94L8.5 2.5l-.94 2.06-2.06.94zm10 10l.94 2.06.94-2.06 2.06-.94-2.06-.94-.94-2.06-.94 2.06-2.06.94z\"/><path d=\"M17.41 7.96l-1.37-1.37c-.4-.4-.92-.59-1.43-.59-.52 0-1.04.2-1.43.59L10.3 9.45l-7.72 7.72c-.78.78-.78 2.05 0 2.83L4 21.41c.39.39.9.59 1.41.59.51 0 1.02-.2 1.41-.59l7.78-7.78 2.81-2.81c.8-.78.8-2.07 0-2.86zM5.41 20L4 18.59l7.72-7.72 1.47 1.35L5.41 20z\"/>\n",
              "  </svg>\n",
              "      </button>\n",
              "      \n",
              "  <style>\n",
              "    .colab-df-container {\n",
              "      display:flex;\n",
              "      flex-wrap:wrap;\n",
              "      gap: 12px;\n",
              "    }\n",
              "\n",
              "    .colab-df-convert {\n",
              "      background-color: #E8F0FE;\n",
              "      border: none;\n",
              "      border-radius: 50%;\n",
              "      cursor: pointer;\n",
              "      display: none;\n",
              "      fill: #1967D2;\n",
              "      height: 32px;\n",
              "      padding: 0 0 0 0;\n",
              "      width: 32px;\n",
              "    }\n",
              "\n",
              "    .colab-df-convert:hover {\n",
              "      background-color: #E2EBFA;\n",
              "      box-shadow: 0px 1px 2px rgba(60, 64, 67, 0.3), 0px 1px 3px 1px rgba(60, 64, 67, 0.15);\n",
              "      fill: #174EA6;\n",
              "    }\n",
              "\n",
              "    [theme=dark] .colab-df-convert {\n",
              "      background-color: #3B4455;\n",
              "      fill: #D2E3FC;\n",
              "    }\n",
              "\n",
              "    [theme=dark] .colab-df-convert:hover {\n",
              "      background-color: #434B5C;\n",
              "      box-shadow: 0px 1px 3px 1px rgba(0, 0, 0, 0.15);\n",
              "      filter: drop-shadow(0px 1px 2px rgba(0, 0, 0, 0.3));\n",
              "      fill: #FFFFFF;\n",
              "    }\n",
              "  </style>\n",
              "\n",
              "      <script>\n",
              "        const buttonEl =\n",
              "          document.querySelector('#df-895ffbf8-91d5-4a51-80b9-824c2a61187b button.colab-df-convert');\n",
              "        buttonEl.style.display =\n",
              "          google.colab.kernel.accessAllowed ? 'block' : 'none';\n",
              "\n",
              "        async function convertToInteractive(key) {\n",
              "          const element = document.querySelector('#df-895ffbf8-91d5-4a51-80b9-824c2a61187b');\n",
              "          const dataTable =\n",
              "            await google.colab.kernel.invokeFunction('convertToInteractive',\n",
              "                                                     [key], {});\n",
              "          if (!dataTable) return;\n",
              "\n",
              "          const docLinkHtml = 'Like what you see? Visit the ' +\n",
              "            '<a target=\"_blank\" href=https://colab.research.google.com/notebooks/data_table.ipynb>data table notebook</a>'\n",
              "            + ' to learn more about interactive tables.';\n",
              "          element.innerHTML = '';\n",
              "          dataTable['output_type'] = 'display_data';\n",
              "          await google.colab.output.renderOutput(dataTable, element);\n",
              "          const docLink = document.createElement('div');\n",
              "          docLink.innerHTML = docLinkHtml;\n",
              "          element.appendChild(docLink);\n",
              "        }\n",
              "      </script>\n",
              "    </div>\n",
              "  </div>\n",
              "  "
            ]
          },
          "metadata": {},
          "execution_count": 141
        }
      ],
      "source": [
        "df_iv"
      ]
    },
    {
      "cell_type": "code",
      "execution_count": null,
      "metadata": {
        "id": "1ERouHwYY9Q8"
      },
      "outputs": [],
      "source": [
        "#save 4: information value after woe transformation\n",
        "df_iv.to_csv('CreditScore_save4_IV.csv')"
      ]
    },
    {
      "cell_type": "markdown",
      "metadata": {
        "id": "GYHLeVBdY9Q9"
      },
      "source": [
        "# 6. Model Tuning"
      ]
    },
    {
      "cell_type": "code",
      "execution_count": null,
      "metadata": {
        "id": "lUZq9XE9Y9Q9"
      },
      "outputs": [],
      "source": [
        "def check_train_test_auc(x_train,y_train,x_test,y_test):\n",
        "    # 用逻辑回归建模\n",
        "    from sklearn.linear_model import LogisticRegression\n",
        "    lr = LogisticRegression(random_state=42,C= 0.1, penalty='l2', solver='newton-cg')\n",
        "\n",
        "\n",
        "    lr = LogisticRegression(class_weight='balanced')\n",
        "    lr.fit(x_train, y_train)\n",
        "\n",
        "    # 预测训练和隔月的OOT\n",
        "    pred_train = lr.predict_proba(x_train)[:,1]\n",
        "    from toad.metrics import KS, AUC\n",
        "\n",
        "    print('train KS',KS(pred_train, y_train))\n",
        "    print('train AUC',AUC(pred_train, y_train))\n",
        "    \n",
        "    pred_OOT =lr.predict_proba(x_test)[:,1]\n",
        "    print('Test KS',KS(pred_OOT, y_test))\n",
        "    print('Test AUC',AUC(pred_OOT, y_test))\n",
        "    \n",
        "    from sklearn.metrics import confusion_matrix, accuracy_score, roc_auc_score, plot_roc_curve, classification_report\n",
        "\n",
        "    fig, ax = plt.subplots(figsize=(12, 8))\n",
        "    plot_roc_curve(lr, x_test, y_test, color='blue', ax=ax)"
      ]
    },
    {
      "cell_type": "markdown",
      "metadata": {
        "id": "xahZFoPAY9Q_"
      },
      "source": [
        "## Logistic Regression"
      ]
    },
    {
      "cell_type": "code",
      "source": [
        "clf = LogisticRegression()\n",
        "\n",
        "# Train the classifier on the training dataset\n",
        "clf.fit(train_woe[features_use], train_woe['label'])"
      ],
      "metadata": {
        "colab": {
          "base_uri": "https://localhost:8080/",
          "height": 74
        },
        "id": "nCosQarQK2Uq",
        "outputId": "75d91a21-4230-4609-e312-678b4769a0cc"
      },
      "execution_count": null,
      "outputs": [
        {
          "output_type": "execute_result",
          "data": {
            "text/plain": [
              "LogisticRegression()"
            ],
            "text/html": [
              "<style>#sk-container-id-2 {color: black;background-color: white;}#sk-container-id-2 pre{padding: 0;}#sk-container-id-2 div.sk-toggleable {background-color: white;}#sk-container-id-2 label.sk-toggleable__label {cursor: pointer;display: block;width: 100%;margin-bottom: 0;padding: 0.3em;box-sizing: border-box;text-align: center;}#sk-container-id-2 label.sk-toggleable__label-arrow:before {content: \"▸\";float: left;margin-right: 0.25em;color: #696969;}#sk-container-id-2 label.sk-toggleable__label-arrow:hover:before {color: black;}#sk-container-id-2 div.sk-estimator:hover label.sk-toggleable__label-arrow:before {color: black;}#sk-container-id-2 div.sk-toggleable__content {max-height: 0;max-width: 0;overflow: hidden;text-align: left;background-color: #f0f8ff;}#sk-container-id-2 div.sk-toggleable__content pre {margin: 0.2em;color: black;border-radius: 0.25em;background-color: #f0f8ff;}#sk-container-id-2 input.sk-toggleable__control:checked~div.sk-toggleable__content {max-height: 200px;max-width: 100%;overflow: auto;}#sk-container-id-2 input.sk-toggleable__control:checked~label.sk-toggleable__label-arrow:before {content: \"▾\";}#sk-container-id-2 div.sk-estimator input.sk-toggleable__control:checked~label.sk-toggleable__label {background-color: #d4ebff;}#sk-container-id-2 div.sk-label input.sk-toggleable__control:checked~label.sk-toggleable__label {background-color: #d4ebff;}#sk-container-id-2 input.sk-hidden--visually {border: 0;clip: rect(1px 1px 1px 1px);clip: rect(1px, 1px, 1px, 1px);height: 1px;margin: -1px;overflow: hidden;padding: 0;position: absolute;width: 1px;}#sk-container-id-2 div.sk-estimator {font-family: monospace;background-color: #f0f8ff;border: 1px dotted black;border-radius: 0.25em;box-sizing: border-box;margin-bottom: 0.5em;}#sk-container-id-2 div.sk-estimator:hover {background-color: #d4ebff;}#sk-container-id-2 div.sk-parallel-item::after {content: \"\";width: 100%;border-bottom: 1px solid gray;flex-grow: 1;}#sk-container-id-2 div.sk-label:hover label.sk-toggleable__label {background-color: #d4ebff;}#sk-container-id-2 div.sk-serial::before {content: \"\";position: absolute;border-left: 1px solid gray;box-sizing: border-box;top: 0;bottom: 0;left: 50%;z-index: 0;}#sk-container-id-2 div.sk-serial {display: flex;flex-direction: column;align-items: center;background-color: white;padding-right: 0.2em;padding-left: 0.2em;position: relative;}#sk-container-id-2 div.sk-item {position: relative;z-index: 1;}#sk-container-id-2 div.sk-parallel {display: flex;align-items: stretch;justify-content: center;background-color: white;position: relative;}#sk-container-id-2 div.sk-item::before, #sk-container-id-2 div.sk-parallel-item::before {content: \"\";position: absolute;border-left: 1px solid gray;box-sizing: border-box;top: 0;bottom: 0;left: 50%;z-index: -1;}#sk-container-id-2 div.sk-parallel-item {display: flex;flex-direction: column;z-index: 1;position: relative;background-color: white;}#sk-container-id-2 div.sk-parallel-item:first-child::after {align-self: flex-end;width: 50%;}#sk-container-id-2 div.sk-parallel-item:last-child::after {align-self: flex-start;width: 50%;}#sk-container-id-2 div.sk-parallel-item:only-child::after {width: 0;}#sk-container-id-2 div.sk-dashed-wrapped {border: 1px dashed gray;margin: 0 0.4em 0.5em 0.4em;box-sizing: border-box;padding-bottom: 0.4em;background-color: white;}#sk-container-id-2 div.sk-label label {font-family: monospace;font-weight: bold;display: inline-block;line-height: 1.2em;}#sk-container-id-2 div.sk-label-container {text-align: center;}#sk-container-id-2 div.sk-container {/* jupyter's `normalize.less` sets `[hidden] { display: none; }` but bootstrap.min.css set `[hidden] { display: none !important; }` so we also need the `!important` here to be able to override the default hidden behavior on the sphinx rendered scikit-learn.org. See: https://github.com/scikit-learn/scikit-learn/issues/21755 */display: inline-block !important;position: relative;}#sk-container-id-2 div.sk-text-repr-fallback {display: none;}</style><div id=\"sk-container-id-2\" class=\"sk-top-container\"><div class=\"sk-text-repr-fallback\"><pre>LogisticRegression()</pre><b>In a Jupyter environment, please rerun this cell to show the HTML representation or trust the notebook. <br />On GitHub, the HTML representation is unable to render, please try loading this page with nbviewer.org.</b></div><div class=\"sk-container\" hidden><div class=\"sk-item\"><div class=\"sk-estimator sk-toggleable\"><input class=\"sk-toggleable__control sk-hidden--visually\" id=\"sk-estimator-id-2\" type=\"checkbox\" checked><label for=\"sk-estimator-id-2\" class=\"sk-toggleable__label sk-toggleable__label-arrow\">LogisticRegression</label><div class=\"sk-toggleable__content\"><pre>LogisticRegression()</pre></div></div></div></div></div>"
            ]
          },
          "metadata": {},
          "execution_count": 144
        }
      ]
    },
    {
      "cell_type": "code",
      "source": [
        "from sklearn.metrics import roc_curve, auc\n",
        "import matplotlib.pyplot as plt\n",
        "\n",
        "# Train a binary classifier and obtain the predicted probabilities for the test set\n",
        "# train_woe and test_woe are assumed to be preprocessed training and testing datasets\n",
        "clf.fit(train_woe[features_use], train_woe['label'])\n",
        "y_score = clf.predict_proba(test_woe[features_use])[:,1]\n",
        "\n",
        "# Compute the false positive rate, true positive rate, and threshold for the ROC curve\n",
        "fpr, tpr, thresholds = roc_curve(test_woe['label'], y_score)\n",
        "\n",
        "# Compute the AUC value\n",
        "roc_auc = auc(fpr, tpr)\n",
        "\n",
        "# Plot the ROC curve\n",
        "plt.figure()\n",
        "plt.plot(fpr, tpr, color='darkorange', lw=2, label='ROC curve (AUC = %0.2f)' % roc_auc)\n",
        "plt.plot([0, 1], [0, 1], color='navy', lw=2, linestyle='--')\n",
        "plt.xlim([0.0, 1.0])\n",
        "plt.ylim([0.0, 1.05])\n",
        "plt.xlabel('False Positive Rate')\n",
        "plt.ylabel('True Positive Rate')\n",
        "plt.title('Receiver Operating Characteristic')\n",
        "plt.legend(loc=\"lower right\")\n",
        "plt.show()"
      ],
      "metadata": {
        "colab": {
          "base_uri": "https://localhost:8080/",
          "height": 480
        },
        "id": "syj93uWFgxZJ",
        "outputId": "e82db195-25b6-432f-a070-58d75f1e81f9"
      },
      "execution_count": null,
      "outputs": [
        {
          "output_type": "display_data",
          "data": {
            "text/plain": [
              "<Figure size 640x480 with 1 Axes>"
            ],
            "image/png": "[encoded data removed]"
          },
          "metadata": {}
        }
      ]
    },
    {
      "cell_type": "code",
      "execution_count": null,
      "metadata": {
        "id": "GM70F3j-Y9RB"
      },
      "outputs": [],
      "source": [
        "def get_evaluation_scores(label, predictions):\n",
        "    from sklearn.metrics import classification_report, confusion_matrix, accuracy_score\n",
        "    from sklearn.metrics import balanced_accuracy_score\n",
        "    tp, fn, fp, tn = confusion_matrix(label,predictions,labels=[1,0]).reshape(-1)\n",
        "    print('True Positive：',tp)\n",
        "    print('True Negative：',tn)\n",
        "    print('False Positive：',fp)\n",
        "    print('False Negative：',fn)\n",
        "    accuracy = (tp+tn)/(tp+fn+fp+tn)\n",
        "    print('accuracy: ',accuracy)\n",
        "    recall = tp/(tp+fn)\n",
        "    print('（recall）: ',recall)\n",
        "    precision = tp/(tp+fp)\n",
        "    print('（precision）: ',precision)\n",
        "    #f1 score = 2*(P*R)/(P+R)\n",
        "    f1 = 2*precision*recall/(precision+recall)\n",
        "    print('F1 score: ',f1)\n",
        "    \n",
        "    print(classification_report(label, predictions))\n",
        "    \n",
        "    print('balanced_accuracy_score: ',balanced_accuracy_score(label,predictions))\n",
        "    return precision, recall\n",
        "\n",
        "def evaluate_result(df_train,df_test,features_name):\n",
        "    from sklearn.ensemble import AdaBoostClassifier, GradientBoostingClassifier, RandomForestClassifier, ExtraTreesClassifier\n",
        "    import seaborn as sns\n",
        "    import matplotlib.pyplot as plt\n",
        "    start = time.time()\n",
        "    x_train = df_train[features_name]\n",
        "    y_train = df_train['label']\n",
        "\n",
        "    x_test  = df_test[features_name]\n",
        "    y_test  = df_test['label']\n",
        "\n",
        "    model = GradientBoostingClassifier(n_estimators=250,random_state=0)\n",
        "    model.fit(x_train,y_train)\n",
        "    predictions = model.predict(x_test)\n",
        "    get_evaluation_scores(label = y_test, predictions=predictions)\n",
        "    feat_importances = pd.Series(model.feature_importances_, index=features_name)\n",
        "    feat_importances=pd.DataFrame(feat_importances).reset_index()\n",
        "    feat_importances.columns=['feature_name','feature_importance']\n",
        "    feat_importances=feat_importances.sort_values(['feature_importance'],ascending=False)\n",
        "    import matplotlib.pyplot as plt\n",
        "    plt.figure(figsize=(15,15))\n",
        "\n",
        "    sns_plot1=sns.barplot(feat_importances.feature_importance,feat_importances.feature_name,estimator=sum)\n",
        "    plt.title(\"Features Importance\",size=18)\n",
        "    plt.ylabel('', size = 15)\n",
        "    plt.tick_params(labelsize=18)\n",
        "    return feat_importances,model,x_train,y_train,x_test,y_test"
      ]
    },
    {
      "cell_type": "markdown",
      "metadata": {
        "id": "n5oD3yJhY9RE"
      },
      "source": [
        "## Train a GBDT and check the feauture importance table"
      ]
    },
    {
      "cell_type": "code",
      "execution_count": null,
      "metadata": {
        "id": "95yP4es4Y9RF"
      },
      "outputs": [],
      "source": [
        "from sklearn.ensemble import GradientBoostingClassifier\n",
        "from sklearn.metrics import accuracy_score, roc_auc_score\n",
        "\n",
        "def evaluate_result(df_train, df_test, features_name):\n",
        "    # Define the GBDT model\n",
        "    model = GradientBoostingClassifier()\n",
        "    \n",
        "    # Train the model on the training dataset\n",
        "    model.fit(df_train[features_name], df_train['label'])\n",
        "    \n",
        "    # Make predictions on the training and test datasets\n",
        "    y_train_pred = model.predict(df_train[features_name])\n",
        "    y_test_pred = model.predict(df_test[features_name])\n",
        "    \n",
        "    # Compute the accuracy and AUC scores for the training and test datasets\n",
        "    train_acc = accuracy_score(df_train['label'], y_train_pred)\n",
        "    test_acc = accuracy_score(df_test['label'], y_test_pred)\n",
        "    train_auc = roc_auc_score(df_train['label'], model.predict_proba(df_train[features_name])[:, 1])\n",
        "    test_auc = roc_auc_score(df_test['label'], model.predict_proba(df_test[features_name])[:, 1])\n",
        "    \n",
        "    # Compute the feature importances\n",
        "    feat_importance = model.feature_importances_\n",
        "    feat_importance_df = pd.DataFrame({'Feature': features_name, 'Importance': feat_importance})\n",
        "    feat_importance_df = feat_importance_df.sort_values(by='Importance', ascending=False)\n",
        "    \n",
        "    # Return the evaluation results and feature importances\n",
        "    return feat_importance_df, model, df_train[features_name], df_train['label'], df_test[features_name], df_test['label']\n"
      ]
    },
    {
      "cell_type": "code",
      "source": [
        "feat_importance_GBDT_reason, model, x_train, y_train, x_test, y_test = evaluate_result(df_train=train_woe, df_test=test_woe, features_name=features_use)"
      ],
      "metadata": {
        "id": "--bTSVWCMmTn"
      },
      "execution_count": null,
      "outputs": []
    },
    {
      "cell_type": "code",
      "execution_count": null,
      "metadata": {
        "colab": {
          "base_uri": "https://localhost:8080/",
          "height": 707
        },
        "id": "gAX2qZ1hY9RH",
        "outputId": "11bdb34b-9c7a-4575-8f9c-60db7e525f84"
      },
      "outputs": [
        {
          "output_type": "execute_result",
          "data": {
            "text/plain": [
              "      Feature  Importance\n",
              "19      PAY_0    0.676050\n",
              "14      PAY_2    0.082790\n",
              "13      PAY_3    0.043711\n",
              "11   PAY_AMT2    0.027296\n",
              "15      PAY_5    0.027186\n",
              "17  LIMIT_BAL    0.023823\n",
              "12      PAY_4    0.021782\n",
              "18      PAY_6    0.018038\n",
              "6    PAY_AMT1    0.015017\n",
              "9    PAY_AMT6    0.014411\n",
              "16   PAY_AMT3    0.011130\n",
              "7    PAY_AMT4    0.009011\n",
              "20        AGE    0.006155\n",
              "4   BILL_AMT1    0.005857\n",
              "5    PAY_AMT5    0.004083\n",
              "2   BILL_AMT6    0.003147\n",
              "3   BILL_AMT5    0.002846\n",
              "10  BILL_AMT3    0.002711\n",
              "8   BILL_AMT2    0.002233\n",
              "0   EDUCATION    0.002040\n",
              "1   BILL_AMT4    0.000682"
            ],
            "text/html": [
              "\n",
              "  <div id=\"df-a7ff8e47-b034-4620-aeb1-903a9c52a5ac\">\n",
              "    <div class=\"colab-df-container\">\n",
              "      <div>\n",
              "<style scoped>\n",
              "    .dataframe tbody tr th:only-of-type {\n",
              "        vertical-align: middle;\n",
              "    }\n",
              "\n",
              "    .dataframe tbody tr th {\n",
              "        vertical-align: top;\n",
              "    }\n",
              "\n",
              "    .dataframe thead th {\n",
              "        text-align: right;\n",
              "    }\n",
              "</style>\n",
              "<table border=\"1\" class=\"dataframe\">\n",
              "  <thead>\n",
              "    <tr style=\"text-align: right;\">\n",
              "      <th></th>\n",
              "      <th>Feature</th>\n",
              "      <th>Importance</th>\n",
              "    </tr>\n",
              "  </thead>\n",
              "  <tbody>\n",
              "    <tr>\n",
              "      <th>19</th>\n",
              "      <td>PAY_0</td>\n",
              "      <td>0.676050</td>\n",
              "    </tr>\n",
              "    <tr>\n",
              "      <th>14</th>\n",
              "      <td>PAY_2</td>\n",
              "      <td>0.082790</td>\n",
              "    </tr>\n",
              "    <tr>\n",
              "      <th>13</th>\n",
              "      <td>PAY_3</td>\n",
              "      <td>0.043711</td>\n",
              "    </tr>\n",
              "    <tr>\n",
              "      <th>11</th>\n",
              "      <td>PAY_AMT2</td>\n",
              "      <td>0.027296</td>\n",
              "    </tr>\n",
              "    <tr>\n",
              "      <th>15</th>\n",
              "      <td>PAY_5</td>\n",
              "      <td>0.027186</td>\n",
              "    </tr>\n",
              "    <tr>\n",
              "      <th>17</th>\n",
              "      <td>LIMIT_BAL</td>\n",
              "      <td>0.023823</td>\n",
              "    </tr>\n",
              "    <tr>\n",
              "      <th>12</th>\n",
              "      <td>PAY_4</td>\n",
              "      <td>0.021782</td>\n",
              "    </tr>\n",
              "    <tr>\n",
              "      <th>18</th>\n",
              "      <td>PAY_6</td>\n",
              "      <td>0.018038</td>\n",
              "    </tr>\n",
              "    <tr>\n",
              "      <th>6</th>\n",
              "      <td>PAY_AMT1</td>\n",
              "      <td>0.015017</td>\n",
              "    </tr>\n",
              "    <tr>\n",
              "      <th>9</th>\n",
              "      <td>PAY_AMT6</td>\n",
              "      <td>0.014411</td>\n",
              "    </tr>\n",
              "    <tr>\n",
              "      <th>16</th>\n",
              "      <td>PAY_AMT3</td>\n",
              "      <td>0.011130</td>\n",
              "    </tr>\n",
              "    <tr>\n",
              "      <th>7</th>\n",
              "      <td>PAY_AMT4</td>\n",
              "      <td>0.009011</td>\n",
              "    </tr>\n",
              "    <tr>\n",
              "      <th>20</th>\n",
              "      <td>AGE</td>\n",
              "      <td>0.006155</td>\n",
              "    </tr>\n",
              "    <tr>\n",
              "      <th>4</th>\n",
              "      <td>BILL_AMT1</td>\n",
              "      <td>0.005857</td>\n",
              "    </tr>\n",
              "    <tr>\n",
              "      <th>5</th>\n",
              "      <td>PAY_AMT5</td>\n",
              "      <td>0.004083</td>\n",
              "    </tr>\n",
              "    <tr>\n",
              "      <th>2</th>\n",
              "      <td>BILL_AMT6</td>\n",
              "      <td>0.003147</td>\n",
              "    </tr>\n",
              "    <tr>\n",
              "      <th>3</th>\n",
              "      <td>BILL_AMT5</td>\n",
              "      <td>0.002846</td>\n",
              "    </tr>\n",
              "    <tr>\n",
              "      <th>10</th>\n",
              "      <td>BILL_AMT3</td>\n",
              "      <td>0.002711</td>\n",
              "    </tr>\n",
              "    <tr>\n",
              "      <th>8</th>\n",
              "      <td>BILL_AMT2</td>\n",
              "      <td>0.002233</td>\n",
              "    </tr>\n",
              "    <tr>\n",
              "      <th>0</th>\n",
              "      <td>EDUCATION</td>\n",
              "      <td>0.002040</td>\n",
              "    </tr>\n",
              "    <tr>\n",
              "      <th>1</th>\n",
              "      <td>BILL_AMT4</td>\n",
              "      <td>0.000682</td>\n",
              "    </tr>\n",
              "  </tbody>\n",
              "</table>\n",
              "</div>\n",
              "      <button class=\"colab-df-convert\" onclick=\"convertToInteractive('df-a7ff8e47-b034-4620-aeb1-903a9c52a5ac')\"\n",
              "              title=\"Convert this dataframe to an interactive table.\"\n",
              "              style=\"display:none;\">\n",
              "        \n",
              "  <svg xmlns=\"http://www.w3.org/2000/svg\" height=\"24px\"viewBox=\"0 0 24 24\"\n",
              "       width=\"24px\">\n",
              "    <path d=\"M0 0h24v24H0V0z\" fill=\"none\"/>\n",
              "    <path d=\"M18.56 5.44l.94 2.06.94-2.06 2.06-.94-2.06-.94-.94-2.06-.94 2.06-2.06.94zm-11 1L8.5 8.5l.94-2.06 2.06-.94-2.06-.94L8.5 2.5l-.94 2.06-2.06.94zm10 10l.94 2.06.94-2.06 2.06-.94-2.06-.94-.94-2.06-.94 2.06-2.06.94z\"/><path d=\"M17.41 7.96l-1.37-1.37c-.4-.4-.92-.59-1.43-.59-.52 0-1.04.2-1.43.59L10.3 9.45l-7.72 7.72c-.78.78-.78 2.05 0 2.83L4 21.41c.39.39.9.59 1.41.59.51 0 1.02-.2 1.41-.59l7.78-7.78 2.81-2.81c.8-.78.8-2.07 0-2.86zM5.41 20L4 18.59l7.72-7.72 1.47 1.35L5.41 20z\"/>\n",
              "  </svg>\n",
              "      </button>\n",
              "      \n",
              "  <style>\n",
              "    .colab-df-container {\n",
              "      display:flex;\n",
              "      flex-wrap:wrap;\n",
              "      gap: 12px;\n",
              "    }\n",
              "\n",
              "    .colab-df-convert {\n",
              "      background-color: #E8F0FE;\n",
              "      border: none;\n",
              "      border-radius: 50%;\n",
              "      cursor: pointer;\n",
              "      display: none;\n",
              "      fill: #1967D2;\n",
              "      height: 32px;\n",
              "      padding: 0 0 0 0;\n",
              "      width: 32px;\n",
              "    }\n",
              "\n",
              "    .colab-df-convert:hover {\n",
              "      background-color: #E2EBFA;\n",
              "      box-shadow: 0px 1px 2px rgba(60, 64, 67, 0.3), 0px 1px 3px 1px rgba(60, 64, 67, 0.15);\n",
              "      fill: #174EA6;\n",
              "    }\n",
              "\n",
              "    [theme=dark] .colab-df-convert {\n",
              "      background-color: #3B4455;\n",
              "      fill: #D2E3FC;\n",
              "    }\n",
              "\n",
              "    [theme=dark] .colab-df-convert:hover {\n",
              "      background-color: #434B5C;\n",
              "      box-shadow: 0px 1px 3px 1px rgba(0, 0, 0, 0.15);\n",
              "      filter: drop-shadow(0px 1px 2px rgba(0, 0, 0, 0.3));\n",
              "      fill: #FFFFFF;\n",
              "    }\n",
              "  </style>\n",
              "\n",
              "      <script>\n",
              "        const buttonEl =\n",
              "          document.querySelector('#df-a7ff8e47-b034-4620-aeb1-903a9c52a5ac button.colab-df-convert');\n",
              "        buttonEl.style.display =\n",
              "          google.colab.kernel.accessAllowed ? 'block' : 'none';\n",
              "\n",
              "        async function convertToInteractive(key) {\n",
              "          const element = document.querySelector('#df-a7ff8e47-b034-4620-aeb1-903a9c52a5ac');\n",
              "          const dataTable =\n",
              "            await google.colab.kernel.invokeFunction('convertToInteractive',\n",
              "                                                     [key], {});\n",
              "          if (!dataTable) return;\n",
              "\n",
              "          const docLinkHtml = 'Like what you see? Visit the ' +\n",
              "            '<a target=\"_blank\" href=https://colab.research.google.com/notebooks/data_table.ipynb>data table notebook</a>'\n",
              "            + ' to learn more about interactive tables.';\n",
              "          element.innerHTML = '';\n",
              "          dataTable['output_type'] = 'display_data';\n",
              "          await google.colab.output.renderOutput(dataTable, element);\n",
              "          const docLink = document.createElement('div');\n",
              "          docLink.innerHTML = docLinkHtml;\n",
              "          element.appendChild(docLink);\n",
              "        }\n",
              "      </script>\n",
              "    </div>\n",
              "  </div>\n",
              "  "
            ]
          },
          "metadata": {},
          "execution_count": 153
        }
      ],
      "source": [
        "feat_importance_GBDT_reason"
      ]
    },
    {
      "cell_type": "code",
      "execution_count": null,
      "metadata": {
        "id": "jprgQUm3Y9RJ"
      },
      "outputs": [],
      "source": [
        "def plot_roc_pre_recall_curve(labels, probs):\n",
        "    from sklearn.metrics import precision_recall_curve\n",
        "    # Get ROC curve FPR and TPR from true labels vs score values\n",
        "    fpr, tpr, _ = roc_curve(labels, probs)\n",
        "\n",
        "    # Calculate ROC Area Under the Curve (AUC) from FPR and TPR data points\n",
        "    roc_auc = auc(fpr, tpr)\n",
        "\n",
        "    # Calculate precision and recall from true labels vs score values\n",
        "    precision, recall, _ = precision_recall_curve(labels, probs)\n",
        "\n",
        "    plt.figure(figsize=(8, 3))\n",
        "\n",
        "    plt.subplot(1,2,1)\n",
        "    lw = 2\n",
        "    plt.plot(fpr, tpr, color='darkorange', lw=lw, label='ROC curve (area = %0.4f)' % roc_auc)\n",
        "    plt.plot([0, 1], [0, 1], color='navy', lw=lw, linestyle='--')\n",
        "    plt.xlim([0.0, 1.0])\n",
        "    plt.ylim([0.0, 1.05])\n",
        "    plt.xlabel('False Positive Rate')\n",
        "    plt.ylabel('True Positive Rate')\n",
        "    plt.title('ROC Curve')\n",
        "    plt.legend(loc=\"lower right\")\n",
        "    plt.grid(True)\n",
        "\n",
        "    plt.subplot(1,2,2)\n",
        "    plt.step(recall, precision, color='orange', where='post')\n",
        "    # plt.fill_between(recall, precision, step='post', alpha=0.5, color='orange')\n",
        "    plt.xlabel('Recall')\n",
        "    plt.ylabel('Precision')\n",
        "    plt.ylim([0.0, 1.05])\n",
        "    plt.xlim([0.0, 1.0])\n",
        "    plt.title('Precision Recall Curve')\n",
        "    plt.grid(True)\n",
        "\n",
        "    left  = 0.125  # the left side of the subplots of the figure\n",
        "    right = 0.9    # the right side of the subplots of the figure\n",
        "    bottom = 0.1   # the bottom of the subplots of the figure \n",
        "    top = 0.9      # the top of the subplots of the figure\n",
        "    wspace = 0.5   # the amount of width reserved for blank space between subplots\n",
        "    hspace = 0.2   # the amount of height reserved for white space between subplots\n",
        "    plt.subplots_adjust(left, bottom, right, top, wspace, hspace)\n",
        "    plt.show()"
      ]
    },
    {
      "cell_type": "code",
      "execution_count": null,
      "metadata": {
        "colab": {
          "base_uri": "https://localhost:8080/",
          "height": 351
        },
        "id": "9e4INIFwY9RL",
        "outputId": "fc1fc603-5323-4fa3-bcda-77b20adcc135"
      },
      "outputs": [
        {
          "output_type": "display_data",
          "data": {
            "text/plain": [
              "<Figure size 800x300 with 2 Axes>"
            ],
            "image/png": "[encoded data removed]"
          },
          "metadata": {}
        }
      ],
      "source": [
        "probs = model.predict_proba(x_test)[:,1]\n",
        "sns.set(font_scale = 1)\n",
        "plot_roc_pre_recall_curve(y_test, probs)"
      ]
    },
    {
      "cell_type": "markdown",
      "metadata": {
        "id": "KuiNl33pY9RM"
      },
      "source": [
        "# 7. Model Production"
      ]
    },
    {
      "cell_type": "code",
      "execution_count": null,
      "metadata": {
        "id": "L4ldvya2Y9RM"
      },
      "outputs": [],
      "source": [
        "#prepare train & test data\n",
        "x_train = train_woe[features_use]\n",
        "y_train=train_woe['label']\n",
        "x_test =test_woe[features_use] \n",
        "y_test = test_woe['label']"
      ]
    },
    {
      "cell_type": "code",
      "execution_count": null,
      "metadata": {
        "id": "o22SnFtFY9RN"
      },
      "outputs": [],
      "source": [
        "#Train LR\n",
        "#lr = LogisticRegression(random_state=42,C= 0.1, penalty='l2', solver='newton-cg')\n",
        "lr = LogisticRegression(class_weight = 'balanced')\n",
        "lr.fit(x_train, y_train)"
      ]
    },
    {
      "cell_type": "code",
      "execution_count": null,
      "metadata": {
        "colab": {
          "base_uri": "https://localhost:8080/",
          "height": 351
        },
        "id": "E8WzIAmhY9RO",
        "outputId": "2204f783-c464-43e6-a307-fcd5cf53a01d"
      },
      "outputs": [
        {
          "output_type": "display_data",
          "data": {
            "text/plain": [
              "<Figure size 800x300 with 2 Axes>"
            ],
            "image/png": "[encoded data removed]"
          },
          "metadata": {}
        }
      ],
      "source": [
        "#check AUC\n",
        "probs = lr.predict_proba(x_test)[:,1]\n",
        "sns.set(font_scale = 1)\n",
        "plot_roc_pre_recall_curve(y_test, probs)"
      ]
    },
    {
      "cell_type": "markdown",
      "metadata": {
        "id": "h6JF9HZsY9RQ"
      },
      "source": [
        "# 8. Scorecard Generation"
      ]
    },
    {
      "cell_type": "code",
      "execution_count": null,
      "metadata": {
        "colab": {
          "base_uri": "https://localhost:8080/",
          "height": 109
        },
        "id": "LAwORulwY9RQ",
        "outputId": "3ecabab5-722f-462f-e4e5-f09406e86faa"
      },
      "outputs": [
        {
          "output_type": "execute_result",
          "data": {
            "text/plain": [
              "ScoreCard(base_score=1000,\n",
              "          combiner=<toad.transform.Combiner object at 0x7fdee5bcc8e0>, pdo=80,\n",
              "          transer=<toad.transform.WOETransformer object at 0x7fdee4062050>)"
            ],
            "text/html": [
              "<style>#sk-container-id-4 {color: black;background-color: white;}#sk-container-id-4 pre{padding: 0;}#sk-container-id-4 div.sk-toggleable {background-color: white;}#sk-container-id-4 label.sk-toggleable__label {cursor: pointer;display: block;width: 100%;margin-bottom: 0;padding: 0.3em;box-sizing: border-box;text-align: center;}#sk-container-id-4 label.sk-toggleable__label-arrow:before {content: \"▸\";float: left;margin-right: 0.25em;color: #696969;}#sk-container-id-4 label.sk-toggleable__label-arrow:hover:before {color: black;}#sk-container-id-4 div.sk-estimator:hover label.sk-toggleable__label-arrow:before {color: black;}#sk-container-id-4 div.sk-toggleable__content {max-height: 0;max-width: 0;overflow: hidden;text-align: left;background-color: #f0f8ff;}#sk-container-id-4 div.sk-toggleable__content pre {margin: 0.2em;color: black;border-radius: 0.25em;background-color: #f0f8ff;}#sk-container-id-4 input.sk-toggleable__control:checked~div.sk-toggleable__content {max-height: 200px;max-width: 100%;overflow: auto;}#sk-container-id-4 input.sk-toggleable__control:checked~label.sk-toggleable__label-arrow:before {content: \"▾\";}#sk-container-id-4 div.sk-estimator input.sk-toggleable__control:checked~label.sk-toggleable__label {background-color: #d4ebff;}#sk-container-id-4 div.sk-label input.sk-toggleable__control:checked~label.sk-toggleable__label {background-color: #d4ebff;}#sk-container-id-4 input.sk-hidden--visually {border: 0;clip: rect(1px 1px 1px 1px);clip: rect(1px, 1px, 1px, 1px);height: 1px;margin: -1px;overflow: hidden;padding: 0;position: absolute;width: 1px;}#sk-container-id-4 div.sk-estimator {font-family: monospace;background-color: #f0f8ff;border: 1px dotted black;border-radius: 0.25em;box-sizing: border-box;margin-bottom: 0.5em;}#sk-container-id-4 div.sk-estimator:hover {background-color: #d4ebff;}#sk-container-id-4 div.sk-parallel-item::after {content: \"\";width: 100%;border-bottom: 1px solid gray;flex-grow: 1;}#sk-container-id-4 div.sk-label:hover label.sk-toggleable__label {background-color: #d4ebff;}#sk-container-id-4 div.sk-serial::before {content: \"\";position: absolute;border-left: 1px solid gray;box-sizing: border-box;top: 0;bottom: 0;left: 50%;z-index: 0;}#sk-container-id-4 div.sk-serial {display: flex;flex-direction: column;align-items: center;background-color: white;padding-right: 0.2em;padding-left: 0.2em;position: relative;}#sk-container-id-4 div.sk-item {position: relative;z-index: 1;}#sk-container-id-4 div.sk-parallel {display: flex;align-items: stretch;justify-content: center;background-color: white;position: relative;}#sk-container-id-4 div.sk-item::before, #sk-container-id-4 div.sk-parallel-item::before {content: \"\";position: absolute;border-left: 1px solid gray;box-sizing: border-box;top: 0;bottom: 0;left: 50%;z-index: -1;}#sk-container-id-4 div.sk-parallel-item {display: flex;flex-direction: column;z-index: 1;position: relative;background-color: white;}#sk-container-id-4 div.sk-parallel-item:first-child::after {align-self: flex-end;width: 50%;}#sk-container-id-4 div.sk-parallel-item:last-child::after {align-self: flex-start;width: 50%;}#sk-container-id-4 div.sk-parallel-item:only-child::after {width: 0;}#sk-container-id-4 div.sk-dashed-wrapped {border: 1px dashed gray;margin: 0 0.4em 0.5em 0.4em;box-sizing: border-box;padding-bottom: 0.4em;background-color: white;}#sk-container-id-4 div.sk-label label {font-family: monospace;font-weight: bold;display: inline-block;line-height: 1.2em;}#sk-container-id-4 div.sk-label-container {text-align: center;}#sk-container-id-4 div.sk-container {/* jupyter's `normalize.less` sets `[hidden] { display: none; }` but bootstrap.min.css set `[hidden] { display: none !important; }` so we also need the `!important` here to be able to override the default hidden behavior on the sphinx rendered scikit-learn.org. See: https://github.com/scikit-learn/scikit-learn/issues/21755 */display: inline-block !important;position: relative;}#sk-container-id-4 div.sk-text-repr-fallback {display: none;}</style><div id=\"sk-container-id-4\" class=\"sk-top-container\"><div class=\"sk-text-repr-fallback\"><pre>ScoreCard(base_score=1000,\n",
              "          combiner=&lt;toad.transform.Combiner object at 0x7fdee5bcc8e0&gt;, pdo=80,\n",
              "          transer=&lt;toad.transform.WOETransformer object at 0x7fdee4062050&gt;)</pre><b>In a Jupyter environment, please rerun this cell to show the HTML representation or trust the notebook. <br />On GitHub, the HTML representation is unable to render, please try loading this page with nbviewer.org.</b></div><div class=\"sk-container\" hidden><div class=\"sk-item\"><div class=\"sk-estimator sk-toggleable\"><input class=\"sk-toggleable__control sk-hidden--visually\" id=\"sk-estimator-id-4\" type=\"checkbox\" checked><label for=\"sk-estimator-id-4\" class=\"sk-toggleable__label sk-toggleable__label-arrow\">ScoreCard</label><div class=\"sk-toggleable__content\"><pre>ScoreCard(base_score=1000,\n",
              "          combiner=&lt;toad.transform.Combiner object at 0x7fdee5bcc8e0&gt;, pdo=80,\n",
              "          transer=&lt;toad.transform.WOETransformer object at 0x7fdee4062050&gt;)</pre></div></div></div></div></div>"
            ]
          },
          "metadata": {},
          "execution_count": 159
        }
      ],
      "source": [
        "# scorecard tuning\n",
        "card = toad.ScoreCard(\n",
        "    combiner = combiner,\n",
        "    transer = t,\n",
        "    class_weight = 'balanced',\n",
        "    C=0.1,\n",
        "    base_score = 1000,\n",
        "    base_odds = 35 ,\n",
        "    pdo = 80,\n",
        "    rate = 2\n",
        ")\n",
        "\n",
        "card.fit(train_woe[features_use], train_woe['label'])"
      ]
    },
    {
      "cell_type": "code",
      "execution_count": null,
      "metadata": {
        "id": "WNN19vkkY9RS"
      },
      "outputs": [],
      "source": [
        "# save 5: save the model to disk\n",
        "filename = 'CreditScore_save5_ScoreCard.pkl'\n",
        "pickle.dump(card, open(filename, 'wb'))"
      ]
    },
    {
      "cell_type": "code",
      "execution_count": null,
      "metadata": {
        "colab": {
          "base_uri": "https://localhost:8080/"
        },
        "id": "G_pOg9lEY9RT",
        "outputId": "2af69b0e-9ee9-429a-d8e4-19a973b38ca9"
      },
      "outputs": [
        {
          "output_type": "execute_result",
          "data": {
            "text/plain": [
              "count    7501.000000\n",
              "mean      627.437143\n",
              "std       113.055983\n",
              "min       173.540655\n",
              "25%       596.974091\n",
              "50%       659.897345\n",
              "75%       702.107780\n",
              "max       810.644058\n",
              "Name: CreditScore, dtype: float64"
            ]
          },
          "metadata": {},
          "execution_count": 161
        }
      ],
      "source": [
        "#inference on test data\n",
        "test['CreditScore'] = card.predict(test)\n",
        "test['CreditScore'].describe()"
      ]
    },
    {
      "cell_type": "code",
      "execution_count": null,
      "metadata": {
        "colab": {
          "base_uri": "https://localhost:8080/"
        },
        "id": "ogQAmFE4Y9RT",
        "outputId": "5acd5e06-b4e4-4286-ff02-e470e75a37d3"
      },
      "outputs": [
        {
          "output_type": "execute_result",
          "data": {
            "text/plain": [
              "count    30000.000000\n",
              "mean       617.559238\n",
              "std        118.265235\n",
              "min        168.851703\n",
              "25%        578.204047\n",
              "50%        654.175758\n",
              "75%        696.461008\n",
              "max        818.460370\n",
              "Name: CreditScore, dtype: float64"
            ]
          },
          "metadata": {},
          "execution_count": 162
        }
      ],
      "source": [
        "#inference on whole data\n",
        "data['CreditScore'] = card.predict(data)\n",
        "data['CreditScore'].describe()"
      ]
    },
    {
      "cell_type": "code",
      "execution_count": null,
      "metadata": {
        "colab": {
          "base_uri": "https://localhost:8080/"
        },
        "id": "XV5W5BaHY9RV",
        "outputId": "1116cff2-9000-4718-b99e-498a512329ad"
      },
      "outputs": [
        {
          "output_type": "execute_result",
          "data": {
            "text/plain": [
              "21"
            ]
          },
          "metadata": {},
          "execution_count": 163
        }
      ],
      "source": [
        "#output the scorecard\n",
        "final_card_score=card.export()\n",
        "len(final_card_score)"
      ]
    },
    {
      "cell_type": "code",
      "execution_count": null,
      "metadata": {
        "colab": {
          "base_uri": "https://localhost:8080/",
          "height": 1000
        },
        "id": "0ptcCbQSY9RX",
        "outputId": "d912670b-5f33-4297-868d-c900aaa471d7"
      },
      "outputs": [
        {
          "output_type": "stream",
          "name": "stderr",
          "text": [
            "<ipython-input-164-6648b97b2d83>:10: FutureWarning: The frame.append method is deprecated and will be removed from pandas in a future version. Use pandas.concat instead.\n",
            "  score_card_df=score_card_df.append(temp)\n",
            "<ipython-input-164-6648b97b2d83>:10: FutureWarning: The frame.append method is deprecated and will be removed from pandas in a future version. Use pandas.concat instead.\n",
            "  score_card_df=score_card_df.append(temp)\n",
            "<ipython-input-164-6648b97b2d83>:10: FutureWarning: The frame.append method is deprecated and will be removed from pandas in a future version. Use pandas.concat instead.\n",
            "  score_card_df=score_card_df.append(temp)\n",
            "<ipython-input-164-6648b97b2d83>:10: FutureWarning: The frame.append method is deprecated and will be removed from pandas in a future version. Use pandas.concat instead.\n",
            "  score_card_df=score_card_df.append(temp)\n",
            "<ipython-input-164-6648b97b2d83>:10: FutureWarning: The frame.append method is deprecated and will be removed from pandas in a future version. Use pandas.concat instead.\n",
            "  score_card_df=score_card_df.append(temp)\n",
            "<ipython-input-164-6648b97b2d83>:10: FutureWarning: The frame.append method is deprecated and will be removed from pandas in a future version. Use pandas.concat instead.\n",
            "  score_card_df=score_card_df.append(temp)\n",
            "<ipython-input-164-6648b97b2d83>:10: FutureWarning: The frame.append method is deprecated and will be removed from pandas in a future version. Use pandas.concat instead.\n",
            "  score_card_df=score_card_df.append(temp)\n",
            "<ipython-input-164-6648b97b2d83>:10: FutureWarning: The frame.append method is deprecated and will be removed from pandas in a future version. Use pandas.concat instead.\n",
            "  score_card_df=score_card_df.append(temp)\n",
            "<ipython-input-164-6648b97b2d83>:10: FutureWarning: The frame.append method is deprecated and will be removed from pandas in a future version. Use pandas.concat instead.\n",
            "  score_card_df=score_card_df.append(temp)\n",
            "<ipython-input-164-6648b97b2d83>:10: FutureWarning: The frame.append method is deprecated and will be removed from pandas in a future version. Use pandas.concat instead.\n",
            "  score_card_df=score_card_df.append(temp)\n",
            "<ipython-input-164-6648b97b2d83>:10: FutureWarning: The frame.append method is deprecated and will be removed from pandas in a future version. Use pandas.concat instead.\n",
            "  score_card_df=score_card_df.append(temp)\n",
            "<ipython-input-164-6648b97b2d83>:10: FutureWarning: The frame.append method is deprecated and will be removed from pandas in a future version. Use pandas.concat instead.\n",
            "  score_card_df=score_card_df.append(temp)\n",
            "<ipython-input-164-6648b97b2d83>:10: FutureWarning: The frame.append method is deprecated and will be removed from pandas in a future version. Use pandas.concat instead.\n",
            "  score_card_df=score_card_df.append(temp)\n",
            "<ipython-input-164-6648b97b2d83>:10: FutureWarning: The frame.append method is deprecated and will be removed from pandas in a future version. Use pandas.concat instead.\n",
            "  score_card_df=score_card_df.append(temp)\n",
            "<ipython-input-164-6648b97b2d83>:10: FutureWarning: The frame.append method is deprecated and will be removed from pandas in a future version. Use pandas.concat instead.\n",
            "  score_card_df=score_card_df.append(temp)\n",
            "<ipython-input-164-6648b97b2d83>:10: FutureWarning: The frame.append method is deprecated and will be removed from pandas in a future version. Use pandas.concat instead.\n",
            "  score_card_df=score_card_df.append(temp)\n",
            "<ipython-input-164-6648b97b2d83>:10: FutureWarning: The frame.append method is deprecated and will be removed from pandas in a future version. Use pandas.concat instead.\n",
            "  score_card_df=score_card_df.append(temp)\n",
            "<ipython-input-164-6648b97b2d83>:10: FutureWarning: The frame.append method is deprecated and will be removed from pandas in a future version. Use pandas.concat instead.\n",
            "  score_card_df=score_card_df.append(temp)\n",
            "<ipython-input-164-6648b97b2d83>:10: FutureWarning: The frame.append method is deprecated and will be removed from pandas in a future version. Use pandas.concat instead.\n",
            "  score_card_df=score_card_df.append(temp)\n",
            "<ipython-input-164-6648b97b2d83>:10: FutureWarning: The frame.append method is deprecated and will be removed from pandas in a future version. Use pandas.concat instead.\n",
            "  score_card_df=score_card_df.append(temp)\n",
            "<ipython-input-164-6648b97b2d83>:10: FutureWarning: The frame.append method is deprecated and will be removed from pandas in a future version. Use pandas.concat instead.\n",
            "  score_card_df=score_card_df.append(temp)\n"
          ]
        },
        {
          "output_type": "execute_result",
          "data": {
            "text/plain": [
              "    variable              binning  score\n",
              "0  EDUCATION           [-inf ~ 2)  29.66\n",
              "1  EDUCATION            [2 ~ inf)  27.20\n",
              "0  BILL_AMT4      [-inf ~ 2501.0)  28.21\n",
              "1  BILL_AMT4       [2501.0 ~ inf)  27.97\n",
              "0  BILL_AMT6     [-inf ~ 19195.0)  27.33\n",
              "1  BILL_AMT6  [19195.0 ~ 50442.0)  31.37\n",
              "2  BILL_AMT6      [50442.0 ~ inf)  26.23\n",
              "0  BILL_AMT5      [-inf ~ 2395.0)  28.16\n",
              "1  BILL_AMT5    [2395.0 ~ 8110.0)  32.85\n",
              "2  BILL_AMT5   [8110.0 ~ 35288.0)  25.20\n",
              "3  BILL_AMT5      [35288.0 ~ inf)  29.41\n",
              "0  BILL_AMT1      [-inf ~ 2501.0)  25.09\n",
              "1  BILL_AMT1       [2501.0 ~ inf)  28.87\n",
              "0   PAY_AMT5         [-inf ~ 1.0)  23.01\n",
              "1   PAY_AMT5       [1.0 ~ 1880.0)  26.88\n",
              "2   PAY_AMT5   [1880.0 ~ 10000.0)  30.60\n",
              "3   PAY_AMT5      [10000.0 ~ inf)  37.59\n",
              "0   PAY_AMT1         [-inf ~ 6.0)  11.44\n",
              "1   PAY_AMT1       [6.0 ~ 4902.0)  28.26\n",
              "2   PAY_AMT1       [4902.0 ~ inf)  42.70\n",
              "0   PAY_AMT4         [-inf ~ 1.0)  22.23\n",
              "1   PAY_AMT4       [1.0 ~ 1506.0)  27.31\n",
              "2   PAY_AMT4    [1506.0 ~ 3946.0)  29.40\n",
              "3   PAY_AMT4       [3946.0 ~ inf)  33.87\n",
              "0  BILL_AMT2      [-inf ~ 2400.0)  27.65\n",
              "1  BILL_AMT2    [2400.0 ~ 8287.0)  24.80\n",
              "2  BILL_AMT2   [8287.0 ~ 35213.0)  35.81\n",
              "3  BILL_AMT2      [35213.0 ~ inf)  23.66\n",
              "0   PAY_AMT6        [-inf ~ 28.0)  20.84\n",
              "1   PAY_AMT6       [28.0 ~ 480.0)  27.67"
            ],
            "text/html": [
              "\n",
              "  <div id=\"df-85d97c4e-2ee7-4865-ab63-f31d09cfd25f\">\n",
              "    <div class=\"colab-df-container\">\n",
              "      <div>\n",
              "<style scoped>\n",
              "    .dataframe tbody tr th:only-of-type {\n",
              "        vertical-align: middle;\n",
              "    }\n",
              "\n",
              "    .dataframe tbody tr th {\n",
              "        vertical-align: top;\n",
              "    }\n",
              "\n",
              "    .dataframe thead th {\n",
              "        text-align: right;\n",
              "    }\n",
              "</style>\n",
              "<table border=\"1\" class=\"dataframe\">\n",
              "  <thead>\n",
              "    <tr style=\"text-align: right;\">\n",
              "      <th></th>\n",
              "      <th>variable</th>\n",
              "      <th>binning</th>\n",
              "      <th>score</th>\n",
              "    </tr>\n",
              "  </thead>\n",
              "  <tbody>\n",
              "    <tr>\n",
              "      <th>0</th>\n",
              "      <td>EDUCATION</td>\n",
              "      <td>[-inf ~ 2)</td>\n",
              "      <td>29.66</td>\n",
              "    </tr>\n",
              "    <tr>\n",
              "      <th>1</th>\n",
              "      <td>EDUCATION</td>\n",
              "      <td>[2 ~ inf)</td>\n",
              "      <td>27.20</td>\n",
              "    </tr>\n",
              "    <tr>\n",
              "      <th>0</th>\n",
              "      <td>BILL_AMT4</td>\n",
              "      <td>[-inf ~ 2501.0)</td>\n",
              "      <td>28.21</td>\n",
              "    </tr>\n",
              "    <tr>\n",
              "      <th>1</th>\n",
              "      <td>BILL_AMT4</td>\n",
              "      <td>[2501.0 ~ inf)</td>\n",
              "      <td>27.97</td>\n",
              "    </tr>\n",
              "    <tr>\n",
              "      <th>0</th>\n",
              "      <td>BILL_AMT6</td>\n",
              "      <td>[-inf ~ 19195.0)</td>\n",
              "      <td>27.33</td>\n",
              "    </tr>\n",
              "    <tr>\n",
              "      <th>1</th>\n",
              "      <td>BILL_AMT6</td>\n",
              "      <td>[19195.0 ~ 50442.0)</td>\n",
              "      <td>31.37</td>\n",
              "    </tr>\n",
              "    <tr>\n",
              "      <th>2</th>\n",
              "      <td>BILL_AMT6</td>\n",
              "      <td>[50442.0 ~ inf)</td>\n",
              "      <td>26.23</td>\n",
              "    </tr>\n",
              "    <tr>\n",
              "      <th>0</th>\n",
              "      <td>BILL_AMT5</td>\n",
              "      <td>[-inf ~ 2395.0)</td>\n",
              "      <td>28.16</td>\n",
              "    </tr>\n",
              "    <tr>\n",
              "      <th>1</th>\n",
              "      <td>BILL_AMT5</td>\n",
              "      <td>[2395.0 ~ 8110.0)</td>\n",
              "      <td>32.85</td>\n",
              "    </tr>\n",
              "    <tr>\n",
              "      <th>2</th>\n",
              "      <td>BILL_AMT5</td>\n",
              "      <td>[8110.0 ~ 35288.0)</td>\n",
              "      <td>25.20</td>\n",
              "    </tr>\n",
              "    <tr>\n",
              "      <th>3</th>\n",
              "      <td>BILL_AMT5</td>\n",
              "      <td>[35288.0 ~ inf)</td>\n",
              "      <td>29.41</td>\n",
              "    </tr>\n",
              "    <tr>\n",
              "      <th>0</th>\n",
              "      <td>BILL_AMT1</td>\n",
              "      <td>[-inf ~ 2501.0)</td>\n",
              "      <td>25.09</td>\n",
              "    </tr>\n",
              "    <tr>\n",
              "      <th>1</th>\n",
              "      <td>BILL_AMT1</td>\n",
              "      <td>[2501.0 ~ inf)</td>\n",
              "      <td>28.87</td>\n",
              "    </tr>\n",
              "    <tr>\n",
              "      <th>0</th>\n",
              "      <td>PAY_AMT5</td>\n",
              "      <td>[-inf ~ 1.0)</td>\n",
              "      <td>23.01</td>\n",
              "    </tr>\n",
              "    <tr>\n",
              "      <th>1</th>\n",
              "      <td>PAY_AMT5</td>\n",
              "      <td>[1.0 ~ 1880.0)</td>\n",
              "      <td>26.88</td>\n",
              "    </tr>\n",
              "    <tr>\n",
              "      <th>2</th>\n",
              "      <td>PAY_AMT5</td>\n",
              "      <td>[1880.0 ~ 10000.0)</td>\n",
              "      <td>30.60</td>\n",
              "    </tr>\n",
              "    <tr>\n",
              "      <th>3</th>\n",
              "      <td>PAY_AMT5</td>\n",
              "      <td>[10000.0 ~ inf)</td>\n",
              "      <td>37.59</td>\n",
              "    </tr>\n",
              "    <tr>\n",
              "      <th>0</th>\n",
              "      <td>PAY_AMT1</td>\n",
              "      <td>[-inf ~ 6.0)</td>\n",
              "      <td>11.44</td>\n",
              "    </tr>\n",
              "    <tr>\n",
              "      <th>1</th>\n",
              "      <td>PAY_AMT1</td>\n",
              "      <td>[6.0 ~ 4902.0)</td>\n",
              "      <td>28.26</td>\n",
              "    </tr>\n",
              "    <tr>\n",
              "      <th>2</th>\n",
              "      <td>PAY_AMT1</td>\n",
              "      <td>[4902.0 ~ inf)</td>\n",
              "      <td>42.70</td>\n",
              "    </tr>\n",
              "    <tr>\n",
              "      <th>0</th>\n",
              "      <td>PAY_AMT4</td>\n",
              "      <td>[-inf ~ 1.0)</td>\n",
              "      <td>22.23</td>\n",
              "    </tr>\n",
              "    <tr>\n",
              "      <th>1</th>\n",
              "      <td>PAY_AMT4</td>\n",
              "      <td>[1.0 ~ 1506.0)</td>\n",
              "      <td>27.31</td>\n",
              "    </tr>\n",
              "    <tr>\n",
              "      <th>2</th>\n",
              "      <td>PAY_AMT4</td>\n",
              "      <td>[1506.0 ~ 3946.0)</td>\n",
              "      <td>29.40</td>\n",
              "    </tr>\n",
              "    <tr>\n",
              "      <th>3</th>\n",
              "      <td>PAY_AMT4</td>\n",
              "      <td>[3946.0 ~ inf)</td>\n",
              "      <td>33.87</td>\n",
              "    </tr>\n",
              "    <tr>\n",
              "      <th>0</th>\n",
              "      <td>BILL_AMT2</td>\n",
              "      <td>[-inf ~ 2400.0)</td>\n",
              "      <td>27.65</td>\n",
              "    </tr>\n",
              "    <tr>\n",
              "      <th>1</th>\n",
              "      <td>BILL_AMT2</td>\n",
              "      <td>[2400.0 ~ 8287.0)</td>\n",
              "      <td>24.80</td>\n",
              "    </tr>\n",
              "    <tr>\n",
              "      <th>2</th>\n",
              "      <td>BILL_AMT2</td>\n",
              "      <td>[8287.0 ~ 35213.0)</td>\n",
              "      <td>35.81</td>\n",
              "    </tr>\n",
              "    <tr>\n",
              "      <th>3</th>\n",
              "      <td>BILL_AMT2</td>\n",
              "      <td>[35213.0 ~ inf)</td>\n",
              "      <td>23.66</td>\n",
              "    </tr>\n",
              "    <tr>\n",
              "      <th>0</th>\n",
              "      <td>PAY_AMT6</td>\n",
              "      <td>[-inf ~ 28.0)</td>\n",
              "      <td>20.84</td>\n",
              "    </tr>\n",
              "    <tr>\n",
              "      <th>1</th>\n",
              "      <td>PAY_AMT6</td>\n",
              "      <td>[28.0 ~ 480.0)</td>\n",
              "      <td>27.67</td>\n",
              "    </tr>\n",
              "  </tbody>\n",
              "</table>\n",
              "</div>\n",
              "      <button class=\"colab-df-convert\" onclick=\"convertToInteractive('df-85d97c4e-2ee7-4865-ab63-f31d09cfd25f')\"\n",
              "              title=\"Convert this dataframe to an interactive table.\"\n",
              "              style=\"display:none;\">\n",
              "        \n",
              "  <svg xmlns=\"http://www.w3.org/2000/svg\" height=\"24px\"viewBox=\"0 0 24 24\"\n",
              "       width=\"24px\">\n",
              "    <path d=\"M0 0h24v24H0V0z\" fill=\"none\"/>\n",
              "    <path d=\"M18.56 5.44l.94 2.06.94-2.06 2.06-.94-2.06-.94-.94-2.06-.94 2.06-2.06.94zm-11 1L8.5 8.5l.94-2.06 2.06-.94-2.06-.94L8.5 2.5l-.94 2.06-2.06.94zm10 10l.94 2.06.94-2.06 2.06-.94-2.06-.94-.94-2.06-.94 2.06-2.06.94z\"/><path d=\"M17.41 7.96l-1.37-1.37c-.4-.4-.92-.59-1.43-.59-.52 0-1.04.2-1.43.59L10.3 9.45l-7.72 7.72c-.78.78-.78 2.05 0 2.83L4 21.41c.39.39.9.59 1.41.59.51 0 1.02-.2 1.41-.59l7.78-7.78 2.81-2.81c.8-.78.8-2.07 0-2.86zM5.41 20L4 18.59l7.72-7.72 1.47 1.35L5.41 20z\"/>\n",
              "  </svg>\n",
              "      </button>\n",
              "      \n",
              "  <style>\n",
              "    .colab-df-container {\n",
              "      display:flex;\n",
              "      flex-wrap:wrap;\n",
              "      gap: 12px;\n",
              "    }\n",
              "\n",
              "    .colab-df-convert {\n",
              "      background-color: #E8F0FE;\n",
              "      border: none;\n",
              "      border-radius: 50%;\n",
              "      cursor: pointer;\n",
              "      display: none;\n",
              "      fill: #1967D2;\n",
              "      height: 32px;\n",
              "      padding: 0 0 0 0;\n",
              "      width: 32px;\n",
              "    }\n",
              "\n",
              "    .colab-df-convert:hover {\n",
              "      background-color: #E2EBFA;\n",
              "      box-shadow: 0px 1px 2px rgba(60, 64, 67, 0.3), 0px 1px 3px 1px rgba(60, 64, 67, 0.15);\n",
              "      fill: #174EA6;\n",
              "    }\n",
              "\n",
              "    [theme=dark] .colab-df-convert {\n",
              "      background-color: #3B4455;\n",
              "      fill: #D2E3FC;\n",
              "    }\n",
              "\n",
              "    [theme=dark] .colab-df-convert:hover {\n",
              "      background-color: #434B5C;\n",
              "      box-shadow: 0px 1px 3px 1px rgba(0, 0, 0, 0.15);\n",
              "      filter: drop-shadow(0px 1px 2px rgba(0, 0, 0, 0.3));\n",
              "      fill: #FFFFFF;\n",
              "    }\n",
              "  </style>\n",
              "\n",
              "      <script>\n",
              "        const buttonEl =\n",
              "          document.querySelector('#df-85d97c4e-2ee7-4865-ab63-f31d09cfd25f button.colab-df-convert');\n",
              "        buttonEl.style.display =\n",
              "          google.colab.kernel.accessAllowed ? 'block' : 'none';\n",
              "\n",
              "        async function convertToInteractive(key) {\n",
              "          const element = document.querySelector('#df-85d97c4e-2ee7-4865-ab63-f31d09cfd25f');\n",
              "          const dataTable =\n",
              "            await google.colab.kernel.invokeFunction('convertToInteractive',\n",
              "                                                     [key], {});\n",
              "          if (!dataTable) return;\n",
              "\n",
              "          const docLinkHtml = 'Like what you see? Visit the ' +\n",
              "            '<a target=\"_blank\" href=https://colab.research.google.com/notebooks/data_table.ipynb>data table notebook</a>'\n",
              "            + ' to learn more about interactive tables.';\n",
              "          element.innerHTML = '';\n",
              "          dataTable['output_type'] = 'display_data';\n",
              "          await google.colab.output.renderOutput(dataTable, element);\n",
              "          const docLink = document.createElement('div');\n",
              "          docLink.innerHTML = docLinkHtml;\n",
              "          element.appendChild(docLink);\n",
              "        }\n",
              "      </script>\n",
              "    </div>\n",
              "  </div>\n",
              "  "
            ]
          },
          "metadata": {},
          "execution_count": 164
        }
      ],
      "source": [
        "#transform the scorecard into dataframe and save to csv\n",
        "keys = list(card.export().keys())\n",
        "score_card_df = pd.DataFrame()\n",
        "for n in keys:\n",
        "    temp = pd.DataFrame.from_dict(final_card_score[n], orient='index')\n",
        "    temp = temp.reset_index()\n",
        "    temp.columns= ['binning','score']\n",
        "    temp['variable'] = n\n",
        "    temp = temp[['variable','binning','score']]\n",
        "    score_card_df=score_card_df.append(temp)\n",
        "score_card_df.head(30)"
      ]
    },
    {
      "cell_type": "code",
      "execution_count": null,
      "metadata": {
        "id": "5Y-fqBv8Y9RY"
      },
      "outputs": [],
      "source": [
        "#save 6: save the scorcard\n",
        "score_card_df.to_csv('CreditScore_save6_score_card_df.csv',index=False)"
      ]
    },
    {
      "cell_type": "markdown",
      "metadata": {
        "id": "giqs3Ra1Y9RZ"
      },
      "source": [
        "# 9. Distribution Analysis"
      ]
    },
    {
      "cell_type": "code",
      "execution_count": null,
      "metadata": {
        "colab": {
          "base_uri": "https://localhost:8080/",
          "height": 859
        },
        "id": "h73NQaQ0Y9Ra",
        "outputId": "589adf46-2d3d-4105-81a3-5c4b90ff2720"
      },
      "outputs": [
        {
          "output_type": "display_data",
          "data": {
            "text/plain": [
              "<Figure size 1200x1000 with 1 Axes>"
            ],
            "image/png": "[encoded data removed]"
          },
          "metadata": {}
        }
      ],
      "source": [
        "plt.figure(figsize=(12,10))\n",
        "import random\n",
        "import numpy\n",
        "from matplotlib import pyplot as plt\n",
        "\n",
        "w = 40\n",
        "n = math.ceil((data['CreditScore'].max() - data['CreditScore'].min())/w)\n",
        "#bins = numpy.linspace(-10, 10, 100)\n",
        "\n",
        "plt.hist(data[data.label==1].CreditScore, alpha=0.5, label='Black',bins = n)\n",
        "plt.hist(data[data.label==0].CreditScore, alpha=0.5, label='White',bins = n)\n",
        "plt.legend(loc='upper left')\n",
        "plt.title('Credit Score Distribution: Test Set',size=15)\n",
        "plt.show()"
      ]
    },
    {
      "cell_type": "code",
      "execution_count": null,
      "metadata": {
        "colab": {
          "base_uri": "https://localhost:8080/",
          "height": 859
        },
        "id": "4kTGp011Y9Rb",
        "outputId": "f6499e1b-c97d-4f9b-c113-c06ba3fceb3f"
      },
      "outputs": [
        {
          "output_type": "display_data",
          "data": {
            "text/plain": [
              "<Figure size 1200x1000 with 1 Axes>"
            ],
            "image/png": "[encoded data removed]"
          },
          "metadata": {}
        }
      ],
      "source": [
        "plt.figure(figsize=(12,10))\n",
        "import random\n",
        "import numpy\n",
        "from matplotlib import pyplot as plt\n",
        "\n",
        "w = 40\n",
        "n = math.ceil((test['CreditScore'].max() - test['CreditScore'].min())/w)\n",
        "#bins = numpy.linspace(-10, 10, 100)\n",
        "\n",
        "plt.hist(test[test.label==1].CreditScore, alpha=0.5, label='Black',bins = n)\n",
        "plt.hist(test[test.label==0].CreditScore, alpha=0.5, label='White',bins = n)\n",
        "plt.legend(loc='upper left')\n",
        "plt.title('Credit Score Distribution: Whole Dataset',size=15)\n",
        "plt.show()"
      ]
    },
    {
      "cell_type": "markdown",
      "metadata": {
        "id": "0X5RS6VBY9Rc"
      },
      "source": [
        "# 10. Threshold Tuning"
      ]
    },
    {
      "cell_type": "code",
      "execution_count": null,
      "metadata": {
        "id": "XqhXqFiwY9Rd"
      },
      "outputs": [],
      "source": [
        "def get_credit_level(\n",
        "    test,\n",
        "    target_score ='order_score',\n",
        "    out_col = 'order_level',\n",
        "    left_bound = -100,\n",
        "    level_0 = 100,\n",
        "    level_1 = 200,    \n",
        "    level_2 = 250,    \n",
        "    level_3 = 300,    \n",
        "    level_4 = 350,    \n",
        "    level_5 = 400,    \n",
        "    level_6 = 450,\n",
        "    level_7 = 500,\n",
        "    level_8 = 800):\n",
        "    level = []\n",
        "    for i in range(len(test)):\n",
        "        if (test[target_score][i]>left_bound) & (test[target_score][i]<=level_0):\n",
        "            level.append(0)\n",
        "        elif  (test[target_score][i]>level_0) & (test[target_score][i]<=level_1):\n",
        "            level.append(1)\n",
        "        elif  (test[target_score][i]>level_1) & (test[target_score][i]<=level_2):\n",
        "            level.append(2)\n",
        "        elif  (test[target_score][i]>level_2) & (test[target_score][i]<=level_3):\n",
        "            level.append(3)\n",
        "        elif  (test[target_score][i]>level_3) & (test[target_score][i]<=level_4):\n",
        "            level.append(4)\n",
        "        elif  (test[target_score][i]>level_4) & (test[target_score][i]<=level_5):\n",
        "            level.append(5)\n",
        "        elif  (test[target_score][i]>level_5) & (test[target_score][i]<=level_6):\n",
        "            level.append(6)\n",
        "        elif  (test[target_score][i]>level_6) & (test[target_score][i]<=level_7):\n",
        "            level.append(7)\n",
        "        elif  (test[target_score][i]>level_7 )& (test[target_score][i]<=level_8):\n",
        "            level.append(8)\n",
        "        \n",
        "    test[out_col] = level\n",
        "    return test\n",
        "\n",
        "def plot_bts_level_loss(test, target_col):\n",
        "    bts_level_df = test[target_col].value_counts()\n",
        "    bts_level_df=pd.DataFrame(bts_level_df)\n",
        "    df_label_level= test[test.label==1].groupby(target_col)['label'].count()/ test.groupby(target_col)['label'].count()\n",
        "    df_label_level = pd.DataFrame(df_label_level)\n",
        "    bts_level_df.sort_index().plot.bar(title='')\n",
        "    df_label_level.plot()"
      ]
    },
    {
      "cell_type": "code",
      "execution_count": null,
      "metadata": {
        "colab": {
          "base_uri": "https://localhost:8080/"
        },
        "id": "vSQXi4PRY9Re",
        "outputId": "79ee8bfc-05f2-46de-f6df-96641d8f44c6"
      },
      "outputs": [
        {
          "output_type": "execute_result",
          "data": {
            "text/plain": [
              "count    7501.000000\n",
              "mean      627.437143\n",
              "std       113.055983\n",
              "min       173.540655\n",
              "25%       596.974091\n",
              "50%       659.897345\n",
              "75%       702.107780\n",
              "max       810.644058\n",
              "Name: CreditScore, dtype: float64"
            ]
          },
          "metadata": {},
          "execution_count": 169
        }
      ],
      "source": [
        "test.CreditScore.describe()"
      ]
    },
    {
      "cell_type": "markdown",
      "metadata": {
        "id": "aMYiu-OpY9Rf"
      },
      "source": [
        "### Threshold Tuning & Trade-off between loss & Coverage"
      ]
    },
    {
      "cell_type": "code",
      "execution_count": null,
      "metadata": {
        "id": "3yXKtJwNY9Rg"
      },
      "outputs": [],
      "source": [
        "test = get_credit_level(test,\n",
        "                       target_score ='CreditScore',\n",
        "                       out_col = 'CreditScore_level',\n",
        "                      left_bound = -1000,\n",
        "    level_0 = 250,\n",
        "    level_1 = 300,    \n",
        "    level_2 = 400,    \n",
        "    level_3 = 500,    \n",
        "    level_4 = 580,    \n",
        "    level_5 = 630,    \n",
        "    level_6 = 690,\n",
        "    level_7 = 730,\n",
        "    level_8 = 1000\n",
        "                )"
      ]
    },
    {
      "cell_type": "code",
      "execution_count": null,
      "metadata": {
        "colab": {
          "base_uri": "https://localhost:8080/",
          "height": 870
        },
        "id": "DP5TtdRjY9Rh",
        "outputId": "be2a025e-5d3f-44ba-ee4e-d890f9b0621b"
      },
      "outputs": [
        {
          "output_type": "display_data",
          "data": {
            "text/plain": [
              "<Figure size 640x480 with 1 Axes>"
            ],
            "image/png": "[encoded data removed]"
          },
          "metadata": {}
        },
        {
          "output_type": "display_data",
          "data": {
            "text/plain": [
              "<Figure size 640x480 with 1 Axes>"
            ],
            "image/png": "[encoded data removed]"
          },
          "metadata": {}
        }
      ],
      "source": [
        "plot_bts_level_loss(test,target_col='CreditScore_level')"
      ]
    },
    {
      "cell_type": "code",
      "execution_count": null,
      "metadata": {
        "colab": {
          "base_uri": "https://localhost:8080/"
        },
        "id": "gCRMz-HlY9Ri",
        "outputId": "d1c035a3-f824-4d5e-d4c0-92732f54a51e"
      },
      "outputs": [
        {
          "output_type": "execute_result",
          "data": {
            "text/plain": [
              "120"
            ]
          },
          "metadata": {},
          "execution_count": 173
        }
      ],
      "source": [
        "sum(test[test.label==1].CreditScore_level==7)"
      ]
    },
    {
      "cell_type": "code",
      "execution_count": null,
      "metadata": {
        "id": "zjVb-rTdY9Rj"
      },
      "outputs": [],
      "source": [
        "def get_loss_coverage(test,target_level):\n",
        "    \n",
        "    #level 8 Loss\n",
        "    L8_loss=test[test[target_level]>=8 ].label.value_counts()/len(test[test[target_level]>=8 ])\n",
        "    #level 8 Coverage\n",
        "    L8_coverage=test[test[target_level]>=8].label.value_counts()[0]/test[test.label==0].shape[0]\n",
        "    print(\"Level 8: Loss is \",L8_loss[1], \"; Coverage is \",L8_coverage)\n",
        "    \n",
        "    #level 7-level 8 Loss\n",
        "    L7_loss=test[test[target_level]>=7 ].label.value_counts()/len(test[test[target_level]>=7 ])\n",
        "    #level 7-level 8 Coverage\n",
        "    L7_coverage=test[test[target_level]>=7].label.value_counts()[0]/test[test.label==0].shape[0]\n",
        "    print(\"Level 7-Level 8: Loss is \",L7_loss[1], \"; Coverage is \",L7_coverage)\n",
        "    \n",
        "    #level 6-level 8 Loss\n",
        "    L6_loss=test[test[target_level]>=6 ].label.value_counts()/len(test[test[target_level]>=6 ])\n",
        "    #level 6-level 8 Coverage\n",
        "    L6_coverage=test[test[target_level]>=6].label.value_counts()[0]/test[test.label==0].shape[0]\n",
        "    print(\"Level 6-Level 8: Loss is \",L6_loss[1], \"; Coverage is \",L6_coverage)\n",
        "    \n",
        "     #level 5-Leve 8 Loss (percentage of default people)\n",
        "    L5_loss = test[test[target_level]>=5 ].label.value_counts()/len(test[test[target_level]>=5 ])\n",
        "    #level 5- level 8 Coverage (percentage of good people)\n",
        "    L5_coverage=test[test[target_level]>=5 ].label.value_counts()[0]/test[test.label==0].shape[0]\n",
        "    print(\"Level 5-Level 8: Loss is \",L5_loss[1], \"; Coverage is \",L5_coverage)\n",
        "    \n",
        "    #level 4-level 8 Loss\n",
        "    L4_loss=test[test[target_level]>=4 ].label.value_counts()/len(test[test[target_level]>=4 ])\n",
        "    #level 4-level 8 Coverage\n",
        "    L4_coverage=test[test[target_level]>=4].label.value_counts()[0]/test[test.label==0].shape[0]\n",
        "    print(\"Level 4-Level 8: Loss is \",L4_loss[1], \"; Coverage is \",L4_coverage)\n",
        "    \n",
        "    \n",
        "    #level 3-level 8 Loss\n",
        "    L3_loss=test[test[target_level]>=3].label.value_counts()/len(test[test[target_level]>=3 ])\n",
        "    #level 3-level 8 Coverage\n",
        "    L3_coverage=test[test[target_level]>=3].label.value_counts()[0]/test[test.label==0].shape[0]\n",
        "    print(\"Level 3-Level 8: Loss is \",L3_loss[1], \"; Coverage is \",L3_coverage)\n",
        "    \n",
        "    #level 2-level 8 Loss\n",
        "    L2_loss=test[test[target_level]>=2].label.value_counts()/len(test[test[target_level]>=2 ])\n",
        "    #level 2-level 8 Coverage\n",
        "    L2_coverage=test[test[target_level]>=2].label.value_counts()[0]/test[test.label==0].shape[0]\n",
        "    print(\"Level 2-Level 8: Loss is \",L2_loss[1], \"; Coverage is \",L2_coverage)\n",
        "    \n",
        "    #level 1-level 8 Loss\n",
        "    L1_loss=test[test[target_level]>=1].label.value_counts()/len(test[test[target_level]>=1 ])\n",
        "    #level 1-level 8 Coverage\n",
        "    L1_coverage=test[test[target_level]>=1].label.value_counts()[0]/test[test.label==0].shape[0]\n",
        "    print(\"Level 1-Level 8: Loss is \",L1_loss[1], \"; Coverage is \",L1_coverage)\n",
        "    \n",
        "    #level 0-level 8 Loss\n",
        "    L0_loss=test[test[target_level]>=0].label.value_counts()/len(test[test[target_level]>=0 ])\n",
        "    #level 0-level 8 Coverage\n",
        "    L0_coverage=test[test[target_level]>=0].label.value_counts()[0]/test[test.label==0].shape[0]\n",
        "    print(\"Level 0-Level 8: Loss is \",L0_loss[1], \"; Coverage is \",L0_coverage)"
      ]
    },
    {
      "cell_type": "code",
      "execution_count": null,
      "metadata": {
        "colab": {
          "base_uri": "https://localhost:8080/"
        },
        "id": "WaVI0gGQY9Rl",
        "outputId": "9c2e4f6c-320e-4e0e-acdc-e42497f64934"
      },
      "outputs": [
        {
          "output_type": "stream",
          "name": "stdout",
          "text": [
            "Level 8: Loss is  0.04271356783919598 ; Coverage is  0.12800268772047707\n",
            "Level 7-Level 8: Loss is  0.0650887573964497 ; Coverage is  0.3715773559549807\n",
            "Level 6-Level 8: Loss is  0.10143753796315043 ; Coverage is  0.745506467327398\n",
            "Level 5-Level 8: Loss is  0.1204323211528564 ; Coverage is  0.8612464303712414\n",
            "Level 4-Level 8: Loss is  0.13876040703052728 ; Coverage is  0.938350411557198\n",
            "Level 3-Level 8: Loss is  0.1684751570531125 ; Coverage is  0.97833025365362\n",
            "Level 2-Level 8: Loss is  0.19373723621511232 ; Coverage is  0.9947925415756761\n",
            "Level 1-Level 8: Loss is  0.20193340494092374 ; Coverage is  0.9984881572316479\n",
            "Level 0-Level 8: Loss is  0.20637248366884414 ; Coverage is  1.0\n"
          ]
        }
      ],
      "source": [
        "get_loss_coverage(test,target_level='CreditScore_level')"
      ]
    },
    {
      "cell_type": "code",
      "execution_count": null,
      "metadata": {
        "id": "xNIbPSFlY9Rm"
      },
      "outputs": [],
      "source": [
        "#save 7: save the scorcard\n",
        "data.to_csv('OrderScore_save7_whole_data.csv',index=False)"
      ]
    },
    {
      "cell_type": "code",
      "execution_count": null,
      "metadata": {
        "id": "DjkDOExBY9Rn"
      },
      "outputs": [],
      "source": []
    },
    {
      "cell_type": "code",
      "execution_count": null,
      "metadata": {
        "colab": {
          "base_uri": "https://localhost:8080/"
        },
        "id": "2A77jTGhY9Ro",
        "outputId": "e5a9f084-75fe-47f3-fec1-c53cd6495842"
      },
      "outputs": [
        {
          "output_type": "execute_result",
          "data": {
            "text/plain": [
              "ID                    22500.000000\n",
              "LIMIT_BAL            420000.000000\n",
              "SEX                       2.000000\n",
              "EDUCATION                 2.000000\n",
              "MARRIAGE                  1.000000\n",
              "AGE                      37.000000\n",
              "PAY_0                     0.000000\n",
              "PAY_2                     0.000000\n",
              "PAY_3                     0.000000\n",
              "PAY_4                    -1.000000\n",
              "PAY_5                     0.000000\n",
              "PAY_6                     0.000000\n",
              "BILL_AMT1             36032.000000\n",
              "BILL_AMT2             41932.000000\n",
              "BILL_AMT3              9778.000000\n",
              "BILL_AMT4            158901.000000\n",
              "BILL_AMT5            161876.000000\n",
              "BILL_AMT6            165378.000000\n",
              "PAY_AMT1               7022.000000\n",
              "PAY_AMT2               1846.000000\n",
              "PAY_AMT3             163862.000000\n",
              "PAY_AMT4               6000.000000\n",
              "PAY_AMT5               6000.000000\n",
              "PAY_AMT6               6000.000000\n",
              "label                     0.000000\n",
              "CreditScore             751.330191\n",
              "CreditScore_level         8.000000\n",
              "Name: 0, dtype: float64"
            ]
          },
          "metadata": {},
          "execution_count": 177
        }
      ],
      "source": [
        "test.loc[0,:]"
      ]
    },
    {
      "cell_type": "code",
      "execution_count": null,
      "metadata": {
        "colab": {
          "base_uri": "https://localhost:8080/"
        },
        "id": "TkA_v4saY9Rp",
        "outputId": "e101d605-69c7-406a-cf90-b9cd79d0f305"
      },
      "outputs": [
        {
          "output_type": "execute_result",
          "data": {
            "text/plain": [
              "751.3301912695952"
            ]
          },
          "metadata": {},
          "execution_count": 178
        }
      ],
      "source": [
        "card.predict(test)[0]"
      ]
    },
    {
      "cell_type": "code",
      "execution_count": null,
      "metadata": {
        "id": "rARsBYG8Y9Rq"
      },
      "outputs": [],
      "source": []
    }
  ],
  "metadata": {
    "kernelspec": {
      "display_name": "Python 3",
      "language": "python",
      "name": "python3"
    },
    "language_info": {
      "codemirror_mode": {
        "name": "ipython",
        "version": 3
      },
      "file_extension": ".py",
      "mimetype": "text/x-python",
      "name": "python",
      "nbconvert_exporter": "python",
      "pygments_lexer": "ipython3",
      "version": "3.8.5"
    },
    "colab": {
      "provenance": []
    }
  },
  "nbformat": 4,
  "nbformat_minor": 0
}